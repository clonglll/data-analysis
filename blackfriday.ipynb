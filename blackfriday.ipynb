{
 "cells": [
  {
   "cell_type": "code",
   "execution_count": 1,
   "metadata": {},
   "outputs": [],
   "source": [
    "import pandas as pd\n",
    "import numpy as np\n",
    "import sklearn \n",
    "import matplotlib.pyplot as plt\n",
    "import seaborn as sns"
   ]
  },
  {
   "cell_type": "code",
   "execution_count": 2,
   "metadata": {},
   "outputs": [],
   "source": [
    "datatrain=pd.read_csv('E:\\\\data\\\\fridaytrain.csv')"
   ]
  },
  {
   "cell_type": "code",
   "execution_count": 3,
   "metadata": {},
   "outputs": [],
   "source": [
    "datatest=pd.read_csv('E:\\\\data\\\\blackfridaytest.csv')"
   ]
  },
  {
   "cell_type": "code",
   "execution_count": 4,
   "metadata": {},
   "outputs": [],
   "source": [
    "na_percent=(datatrain.isnull().sum()/datatrain.isnull().count()).sort_values(ascending=False)"
   ]
  },
  {
   "cell_type": "code",
   "execution_count": 5,
   "metadata": {},
   "outputs": [
    {
     "data": {
      "text/plain": [
       "Product_Category_3            0.696727\n",
       "Product_Category_2            0.315666\n",
       "Purchase                      0.000000\n",
       "Product_Category_1            0.000000\n",
       "Marital_Status                0.000000\n",
       "Stay_In_Current_City_Years    0.000000\n",
       "City_Category                 0.000000\n",
       "Occupation                    0.000000\n",
       "Age                           0.000000\n",
       "Gender                        0.000000\n",
       "Product_ID                    0.000000\n",
       "User_ID                       0.000000\n",
       "dtype: float64"
      ]
     },
     "execution_count": 5,
     "metadata": {},
     "output_type": "execute_result"
    }
   ],
   "source": [
    "na_percent"
   ]
  },
  {
   "cell_type": "code",
   "execution_count": 6,
   "metadata": {},
   "outputs": [],
   "source": [
    "#每件商品的均价\n",
    "data_pm=datatrain.groupby('Product_ID')['Purchase'].mean().to_frame()\n",
    "data_pm.columns=['Purchase_mean']\n",
    "datatr=pd.merge(datatrain,data_pm,on='Product_ID')"
   ]
  },
  {
   "cell_type": "code",
   "execution_count": 7,
   "metadata": {},
   "outputs": [],
   "source": [
    "#datatr表示包括均价和变换率的所有训练集信息\n",
    "datatr['Purchase_rate']=(datatr.Purchase-datatr.Purchase_mean)/datatr.Purchase_mean"
   ]
  },
  {
   "cell_type": "code",
   "execution_count": 8,
   "metadata": {},
   "outputs": [],
   "source": [
    "#target训练集的目标函数\n",
    "target=datatr.Purchase_rate.to_frame()"
   ]
  },
  {
   "cell_type": "code",
   "execution_count": 9,
   "metadata": {},
   "outputs": [
    {
     "data": {
      "text/html": [
       "<div>\n",
       "<style scoped>\n",
       "    .dataframe tbody tr th:only-of-type {\n",
       "        vertical-align: middle;\n",
       "    }\n",
       "\n",
       "    .dataframe tbody tr th {\n",
       "        vertical-align: top;\n",
       "    }\n",
       "\n",
       "    .dataframe thead th {\n",
       "        text-align: right;\n",
       "    }\n",
       "</style>\n",
       "<table border=\"1\" class=\"dataframe\">\n",
       "  <thead>\n",
       "    <tr style=\"text-align: right;\">\n",
       "      <th></th>\n",
       "      <th>User_ID</th>\n",
       "      <th>Product_ID</th>\n",
       "      <th>Gender</th>\n",
       "      <th>Age</th>\n",
       "      <th>Occupation</th>\n",
       "      <th>City_Category</th>\n",
       "      <th>Stay_In_Current_City_Years</th>\n",
       "      <th>Marital_Status</th>\n",
       "      <th>Product_Category_1</th>\n",
       "      <th>Product_Category_2</th>\n",
       "      <th>Product_Category_3</th>\n",
       "      <th>Purchase</th>\n",
       "      <th>Purchase_mean</th>\n",
       "      <th>Purchase_rate</th>\n",
       "    </tr>\n",
       "  </thead>\n",
       "  <tbody>\n",
       "    <tr>\n",
       "      <th>0</th>\n",
       "      <td>1000001</td>\n",
       "      <td>P00069042</td>\n",
       "      <td>F</td>\n",
       "      <td>0-17</td>\n",
       "      <td>10</td>\n",
       "      <td>A</td>\n",
       "      <td>2</td>\n",
       "      <td>0</td>\n",
       "      <td>3</td>\n",
       "      <td>NaN</td>\n",
       "      <td>NaN</td>\n",
       "      <td>8370</td>\n",
       "      <td>11870.863436</td>\n",
       "      <td>-0.294912</td>\n",
       "    </tr>\n",
       "    <tr>\n",
       "      <th>1</th>\n",
       "      <td>1000149</td>\n",
       "      <td>P00069042</td>\n",
       "      <td>M</td>\n",
       "      <td>26-35</td>\n",
       "      <td>1</td>\n",
       "      <td>B</td>\n",
       "      <td>2</td>\n",
       "      <td>1</td>\n",
       "      <td>3</td>\n",
       "      <td>NaN</td>\n",
       "      <td>NaN</td>\n",
       "      <td>10715</td>\n",
       "      <td>11870.863436</td>\n",
       "      <td>-0.097370</td>\n",
       "    </tr>\n",
       "    <tr>\n",
       "      <th>2</th>\n",
       "      <td>1000541</td>\n",
       "      <td>P00069042</td>\n",
       "      <td>F</td>\n",
       "      <td>18-25</td>\n",
       "      <td>4</td>\n",
       "      <td>C</td>\n",
       "      <td>3</td>\n",
       "      <td>0</td>\n",
       "      <td>3</td>\n",
       "      <td>NaN</td>\n",
       "      <td>NaN</td>\n",
       "      <td>11037</td>\n",
       "      <td>11870.863436</td>\n",
       "      <td>-0.070245</td>\n",
       "    </tr>\n",
       "    <tr>\n",
       "      <th>3</th>\n",
       "      <td>1000698</td>\n",
       "      <td>P00069042</td>\n",
       "      <td>M</td>\n",
       "      <td>18-25</td>\n",
       "      <td>4</td>\n",
       "      <td>A</td>\n",
       "      <td>1</td>\n",
       "      <td>0</td>\n",
       "      <td>3</td>\n",
       "      <td>NaN</td>\n",
       "      <td>NaN</td>\n",
       "      <td>8009</td>\n",
       "      <td>11870.863436</td>\n",
       "      <td>-0.325323</td>\n",
       "    </tr>\n",
       "    <tr>\n",
       "      <th>4</th>\n",
       "      <td>1000951</td>\n",
       "      <td>P00069042</td>\n",
       "      <td>M</td>\n",
       "      <td>46-50</td>\n",
       "      <td>2</td>\n",
       "      <td>B</td>\n",
       "      <td>4+</td>\n",
       "      <td>1</td>\n",
       "      <td>3</td>\n",
       "      <td>NaN</td>\n",
       "      <td>NaN</td>\n",
       "      <td>13346</td>\n",
       "      <td>11870.863436</td>\n",
       "      <td>0.124265</td>\n",
       "    </tr>\n",
       "  </tbody>\n",
       "</table>\n",
       "</div>"
      ],
      "text/plain": [
       "   User_ID Product_ID Gender    Age  Occupation City_Category  \\\n",
       "0  1000001  P00069042      F   0-17          10             A   \n",
       "1  1000149  P00069042      M  26-35           1             B   \n",
       "2  1000541  P00069042      F  18-25           4             C   \n",
       "3  1000698  P00069042      M  18-25           4             A   \n",
       "4  1000951  P00069042      M  46-50           2             B   \n",
       "\n",
       "  Stay_In_Current_City_Years  Marital_Status  Product_Category_1  \\\n",
       "0                          2               0                   3   \n",
       "1                          2               1                   3   \n",
       "2                          3               0                   3   \n",
       "3                          1               0                   3   \n",
       "4                         4+               1                   3   \n",
       "\n",
       "   Product_Category_2  Product_Category_3  Purchase  Purchase_mean  \\\n",
       "0                 NaN                 NaN      8370   11870.863436   \n",
       "1                 NaN                 NaN     10715   11870.863436   \n",
       "2                 NaN                 NaN     11037   11870.863436   \n",
       "3                 NaN                 NaN      8009   11870.863436   \n",
       "4                 NaN                 NaN     13346   11870.863436   \n",
       "\n",
       "   Purchase_rate  \n",
       "0      -0.294912  \n",
       "1      -0.097370  \n",
       "2      -0.070245  \n",
       "3      -0.325323  \n",
       "4       0.124265  "
      ]
     },
     "execution_count": 9,
     "metadata": {},
     "output_type": "execute_result"
    }
   ],
   "source": [
    " datatr.head()"
   ]
  },
  {
   "cell_type": "code",
   "execution_count": 10,
   "metadata": {},
   "outputs": [],
   "source": [
    "data0=datatr.drop(['Purchase','Purchase_rate'],axis=1)"
   ]
  },
  {
   "cell_type": "code",
   "execution_count": 11,
   "metadata": {},
   "outputs": [
    {
     "name": "stdout",
     "output_type": "stream",
     "text": [
      "<class 'pandas.core.frame.DataFrame'>\n",
      "Int64Index: 550068 entries, 0 to 550067\n",
      "Data columns (total 12 columns):\n",
      "User_ID                       550068 non-null int64\n",
      "Product_ID                    550068 non-null object\n",
      "Gender                        550068 non-null object\n",
      "Age                           550068 non-null object\n",
      "Occupation                    550068 non-null int64\n",
      "City_Category                 550068 non-null object\n",
      "Stay_In_Current_City_Years    550068 non-null object\n",
      "Marital_Status                550068 non-null int64\n",
      "Product_Category_1            550068 non-null int64\n",
      "Product_Category_2            376430 non-null float64\n",
      "Product_Category_3            166821 non-null float64\n",
      "Purchase_mean                 550068 non-null float64\n",
      "dtypes: float64(3), int64(4), object(5)\n",
      "memory usage: 54.6+ MB\n"
     ]
    }
   ],
   "source": [
    "data0.info()"
   ]
  },
  {
   "cell_type": "code",
   "execution_count": 12,
   "metadata": {},
   "outputs": [],
   "source": [
    "datatest0=pd.merge(datatest,data_pm,on='Product_ID')"
   ]
  },
  {
   "cell_type": "code",
   "execution_count": 13,
   "metadata": {},
   "outputs": [
    {
     "name": "stdout",
     "output_type": "stream",
     "text": [
      "<class 'pandas.core.frame.DataFrame'>\n",
      "Int64Index: 233538 entries, 0 to 233537\n",
      "Data columns (total 12 columns):\n",
      "User_ID                       233538 non-null int64\n",
      "Product_ID                    233538 non-null object\n",
      "Gender                        233538 non-null object\n",
      "Age                           233538 non-null object\n",
      "Occupation                    233538 non-null int64\n",
      "City_Category                 233538 non-null object\n",
      "Stay_In_Current_City_Years    233538 non-null object\n",
      "Marital_Status                233538 non-null int64\n",
      "Product_Category_1            233538 non-null int64\n",
      "Product_Category_2            161236 non-null float64\n",
      "Product_Category_3            71036 non-null float64\n",
      "Purchase_mean                 233538 non-null float64\n",
      "dtypes: float64(3), int64(4), object(5)\n",
      "memory usage: 23.2+ MB\n"
     ]
    }
   ],
   "source": [
    "datatest0.info()"
   ]
  },
  {
   "cell_type": "code",
   "execution_count": 14,
   "metadata": {},
   "outputs": [
    {
     "data": {
      "text/plain": [
       "User_ID                            0\n",
       "Product_ID                         0\n",
       "Gender                             0\n",
       "Age                                0\n",
       "Occupation                         0\n",
       "City_Category                      0\n",
       "Stay_In_Current_City_Years         0\n",
       "Marital_Status                     0\n",
       "Product_Category_1                 0\n",
       "Product_Category_2             72302\n",
       "Product_Category_3            162502\n",
       "Purchase_mean                      0\n",
       "dtype: int64"
      ]
     },
     "execution_count": 14,
     "metadata": {},
     "output_type": "execute_result"
    }
   ],
   "source": [
    "#按照id合并后平均价格没有空的，证明test数据集包含所有train数据集的product\n",
    "datatest0.isnull().sum()"
   ]
  },
  {
   "cell_type": "code",
   "execution_count": 15,
   "metadata": {},
   "outputs": [],
   "source": [
    "data1=pd.concat([data0,datatest0],axis=0)"
   ]
  },
  {
   "cell_type": "code",
   "execution_count": 16,
   "metadata": {},
   "outputs": [],
   "source": [
    "#产品类别进行独热编码，不能直接用get_dummies()\n",
    "l=['Product_Category_1','Product_Category_2','Product_Category_3']\n",
    "data2=data1[l]\n",
    "data3=data1.drop(l,axis=1)"
   ]
  },
  {
   "cell_type": "code",
   "execution_count": 17,
   "metadata": {},
   "outputs": [],
   "source": [
    "lcategory=list(data2.Product_Category_1.unique())"
   ]
  },
  {
   "cell_type": "code",
   "execution_count": 18,
   "metadata": {},
   "outputs": [],
   "source": [
    "df1=pd.get_dummies(data2['Product_Category_1'])"
   ]
  },
  {
   "cell_type": "code",
   "execution_count": 19,
   "metadata": {},
   "outputs": [],
   "source": [
    "df2=pd.get_dummies(data2['Product_Category_2'])"
   ]
  },
  {
   "cell_type": "code",
   "execution_count": 20,
   "metadata": {},
   "outputs": [],
   "source": [
    "df3=pd.get_dummies(data2['Product_Category_3'])"
   ]
  },
  {
   "cell_type": "code",
   "execution_count": 21,
   "metadata": {},
   "outputs": [],
   "source": [
    "ldf=list(df1.columns)"
   ]
  },
  {
   "cell_type": "code",
   "execution_count": 22,
   "metadata": {},
   "outputs": [
    {
     "data": {
      "text/plain": [
       "[1, 2, 3, 4, 5, 6, 7, 8, 9, 10, 11, 12, 13, 14, 15, 16, 17, 18, 19, 20]"
      ]
     },
     "execution_count": 22,
     "metadata": {},
     "output_type": "execute_result"
    }
   ],
   "source": [
    "ldf"
   ]
  },
  {
   "cell_type": "code",
   "execution_count": 23,
   "metadata": {},
   "outputs": [],
   "source": [
    "for c in ldf:\n",
    "    if c not in list(df2):\n",
    "        df2[c]=0\n",
    "df2=df2.sort_index(axis=1)"
   ]
  },
  {
   "cell_type": "code",
   "execution_count": 24,
   "metadata": {},
   "outputs": [],
   "source": [
    "for c in ldf:\n",
    "    if c not in list(df3):\n",
    "        df3[c]=0\n",
    "df3=df3.sort_index(axis=1)"
   ]
  },
  {
   "cell_type": "code",
   "execution_count": 25,
   "metadata": {},
   "outputs": [],
   "source": [
    "#至此用比较繁琐的方法完成了商品种类的独热处理\n",
    "df=df1+df2+df3"
   ]
  },
  {
   "cell_type": "code",
   "execution_count": 26,
   "metadata": {},
   "outputs": [],
   "source": [
    "def years2int(s):\n",
    "    if s=='4+':\n",
    "        s='5'\n",
    "    s=int(s)\n",
    "    return s"
   ]
  },
  {
   "cell_type": "code",
   "execution_count": 27,
   "metadata": {},
   "outputs": [],
   "source": [
    "data3.Stay_In_Current_City_Years=data3.Stay_In_Current_City_Years.apply(years2int)"
   ]
  },
  {
   "cell_type": "code",
   "execution_count": 28,
   "metadata": {},
   "outputs": [],
   "source": [
    "data3.Occupation=data3.Occupation.astype(str)"
   ]
  },
  {
   "cell_type": "code",
   "execution_count": 29,
   "metadata": {},
   "outputs": [],
   "source": [
    "data4=data3.drop(['User_ID','Product_ID'],axis=1)"
   ]
  },
  {
   "cell_type": "code",
   "execution_count": 30,
   "metadata": {},
   "outputs": [
    {
     "name": "stdout",
     "output_type": "stream",
     "text": [
      "<class 'pandas.core.frame.DataFrame'>\n",
      "Int64Index: 783606 entries, 0 to 233537\n",
      "Data columns (total 7 columns):\n",
      "Gender                        783606 non-null object\n",
      "Age                           783606 non-null object\n",
      "Occupation                    783606 non-null object\n",
      "City_Category                 783606 non-null object\n",
      "Stay_In_Current_City_Years    783606 non-null int64\n",
      "Marital_Status                783606 non-null int64\n",
      "Purchase_mean                 783606 non-null float64\n",
      "dtypes: float64(1), int64(2), object(4)\n",
      "memory usage: 47.8+ MB\n"
     ]
    }
   ],
   "source": [
    "data4.info()"
   ]
  },
  {
   "cell_type": "code",
   "execution_count": 31,
   "metadata": {},
   "outputs": [
    {
     "name": "stderr",
     "output_type": "stream",
     "text": [
      "D:\\Anaconda3\\lib\\site-packages\\pandas\\core\\indexing.py:543: SettingWithCopyWarning: \n",
      "A value is trying to be set on a copy of a slice from a DataFrame.\n",
      "Try using .loc[row_indexer,col_indexer] = value instead\n",
      "\n",
      "See the caveats in the documentation: http://pandas.pydata.org/pandas-docs/stable/indexing.html#indexing-view-versus-copy\n",
      "  self.obj[item] = s\n"
     ]
    }
   ],
   "source": [
    "#data分为数值部分和数组部分\n",
    "data_num=data4.select_dtypes(include='number')\n",
    "data_str=data4.drop(data_num.columns,axis=1)\n",
    "\n",
    "#数值部分归一化\n",
    "from sklearn import preprocessing\n",
    "mms=preprocessing.MinMaxScaler()\n",
    "data_num.iloc[:,:]=mms.fit_transform(data_num.values)  \n",
    "\n",
    "#字符串部分独热编码\n",
    "data_str=pd.get_dummies(data_str)\n",
    "\n",
    "#将3部分(data4的数值和字符部分，种类的单独独热编码部分df)合并成为新的data\n",
    "data=pd.concat([data_num,data_str,df],axis=1)"
   ]
  },
  {
   "cell_type": "code",
   "execution_count": 32,
   "metadata": {},
   "outputs": [],
   "source": [
    "#将整个数据集用利于稀疏矩阵存储的方式scipy处理\n",
    "import scipy \n",
    "from scipy import sparse\n",
    "data_sparse = sparse.csc_matrix(data.values)"
   ]
  },
  {
   "cell_type": "code",
   "execution_count": 44,
   "metadata": {},
   "outputs": [],
   "source": [
    "#划分训练集合测试集\n",
    "train=data.iloc[:len(datatrain),:].values\n",
    "test=data.iloc[len(datatrain):,:].values"
   ]
  },
  {
   "cell_type": "code",
   "execution_count": 40,
   "metadata": {},
   "outputs": [],
   "source": [
    "#存储为稀疏矩阵形式\n",
    "tr_sparse=sparse.csc_matrix(train.values)\n",
    "ts_sparse=sparse.csc_matrix(test.values)"
   ]
  },
  {
   "cell_type": "code",
   "execution_count": 34,
   "metadata": {},
   "outputs": [],
   "source": [
    "#对数据集进行stack \n",
    "#选取随机森林和xgboost两个方法"
   ]
  },
  {
   "cell_type": "code",
   "execution_count": 35,
   "metadata": {},
   "outputs": [],
   "source": [
    "ytrain=target.values.reshape(-1,)"
   ]
  },
  {
   "cell_type": "code",
   "execution_count": 55,
   "metadata": {},
   "outputs": [
    {
     "data": {
      "text/plain": [
       "GridSearchCV(cv=None, error_score='raise',\n",
       "       estimator=XGBRegressor(base_score=0.5, booster='gbtree', colsample_bylevel=1,\n",
       "       colsample_bytree=1, gamma=0, learning_rate=0.1, max_delta_step=0,\n",
       "       max_depth=3, min_child_weight=1, missing=None, n_estimators=100,\n",
       "       n_jobs=1, nthread=None, objective='reg:linear', random_state=0,\n",
       "       reg_alpha=0, reg_lambda=1, scale_pos_weight=1, seed=None,\n",
       "       silent=True, subsample=1),\n",
       "       fit_params=None, iid=True, n_jobs=1,\n",
       "       param_grid={'gamma': [0.05, 0.1, 0.5, 1], 'max_depth': [6, 8, 10], 'learning_rate': [0.05, 0.1, 0.3], 'objective': ['reg:linear'], 'min_child_weight': [0.5, 1, 5]},\n",
       "       pre_dispatch='2*n_jobs', refit=True, return_train_score='warn',\n",
       "       scoring=None, verbose=0)"
      ]
     },
     "execution_count": 55,
     "metadata": {},
     "output_type": "execute_result"
    }
   ],
   "source": [
    "#xgboost\n",
    "import xgboost as xgb\n",
    "ps={}\n",
    "ps['gamma']=[0.05,0.1,0.5,1]\n",
    "ps['max_depth']=[6,8,10]\n",
    "ps['learning_rate']=[0.05,0.1,0.3]\n",
    "ps['objective']=['reg:linear']\n",
    "ps['min_child_weight']=[0.5,1,5]\n",
    "plst = list(ps.items())\n",
    "num_rounds = 2000\n",
    "\n",
    "#筛选最佳超参数\n",
    "from sklearn.model_selection import GridSearchCV\n",
    "xgbrg=xgb.XGBRegressor()\n",
    "m1=GridSearchCV(xgbrg,ps)\n",
    "#由于数据过多，gridsearch吃不消，选取部分数据来检查最佳参数\n",
    "gindex=np.random.randint(len(train),size=5000)\n",
    "sample=train[gindex,:]\n",
    "ysample=ytrain[gindex]\n",
    "m1.fit(sample,ysample)"
   ]
  },
  {
   "cell_type": "code",
   "execution_count": 60,
   "metadata": {},
   "outputs": [],
   "source": [
    "#用xgboost最优参数预测\n",
    "xgbrg1=xgb.XGBRegressor(gamma=0.5,learning_rate=0.1,max_depth= 6,min_child_weight= 5,objective= 'reg:linear')\n",
    "xgbrg1.fit(train,ytrain)\n",
    "yxgb=xgbrg1.predict(train)"
   ]
  },
  {
   "cell_type": "code",
   "execution_count": 68,
   "metadata": {},
   "outputs": [
    {
     "data": {
      "text/plain": [
       "['xgbrg1.pkl']"
      ]
     },
     "execution_count": 68,
     "metadata": {},
     "output_type": "execute_result"
    }
   ],
   "source": [
    "#存储xgboost模型\n",
    "from sklearn.externals import joblib\n",
    "joblib.dump(xgbrg1, 'xgbrg1.pkl')"
   ]
  },
  {
   "cell_type": "code",
   "execution_count": 67,
   "metadata": {},
   "outputs": [
    {
     "data": {
      "text/plain": [
       "0.2158536010351589"
      ]
     },
     "execution_count": 67,
     "metadata": {},
     "output_type": "execute_result"
    }
   ],
   "source": [
    "np.mean(abs(ytrain-yxgb))"
   ]
  },
  {
   "cell_type": "code",
   "execution_count": null,
   "metadata": {},
   "outputs": [],
   "source": [
    "# #randomforest\n",
    "# ps2={}\n",
    "# ps2['max_depth']=[5,7,9]\n",
    "# ps2['n_estimators']=[100,500,800]\n",
    "\n",
    "# from sklearn.ensemble import RandomForestRegressor\n",
    "# rf=RandomForestRegressor()\n",
    "\n",
    "# m2=GridSearchCV(rf,ps2)\n",
    "# m2.fit(sample,ysample)\n"
   ]
  },
  {
   "cell_type": "code",
   "execution_count": 69,
   "metadata": {},
   "outputs": [
    {
     "data": {
      "text/plain": [
       "0.2158536010351589"
      ]
     },
     "execution_count": 69,
     "metadata": {},
     "output_type": "execute_result"
    }
   ],
   "source": [
    "#用rf最优参数预测\n",
    "rf1=xgb.XGBRegressor(max_depth= 6,n_estimators=500)\n",
    "rf1.fit(train,ytrain)\n",
    "yrf=xgbrg1.predict(train)\n",
    "np.mean(abs(ytrain-yrf))"
   ]
  },
  {
   "cell_type": "code",
   "execution_count": 70,
   "metadata": {},
   "outputs": [
    {
     "data": {
      "text/plain": [
       "array([ 0.00448534, -0.0115248 ,  0.0282408 , ...,  0.02126098,\n",
       "       -0.01042801,  0.00192508], dtype=float32)"
      ]
     },
     "execution_count": 70,
     "metadata": {},
     "output_type": "execute_result"
    }
   ],
   "source": [
    "yrf"
   ]
  },
  {
   "cell_type": "code",
   "execution_count": null,
   "metadata": {},
   "outputs": [],
   "source": [
    "from sklearn.externals import joblib\n",
    "joblib.dump(rf1, 'rf1.pkl')"
   ]
  },
  {
   "cell_type": "code",
   "execution_count": 71,
   "metadata": {},
   "outputs": [
    {
     "data": {
      "text/plain": [
       "array([ 0.00448534, -0.0115248 ,  0.0282408 , ...,  0.02126098,\n",
       "       -0.01042801,  0.00192508], dtype=float32)"
      ]
     },
     "execution_count": 71,
     "metadata": {},
     "output_type": "execute_result"
    }
   ],
   "source": [
    "yxgb"
   ]
  },
  {
   "cell_type": "code",
   "execution_count": 73,
   "metadata": {},
   "outputs": [
    {
     "data": {
      "text/plain": [
       "['xgbrg2.pkl']"
      ]
     },
     "execution_count": 73,
     "metadata": {},
     "output_type": "execute_result"
    }
   ],
   "source": [
    "#将stack后的特征和原来的训练数据合并然后训练\n",
    "\n",
    "# trainstack=np.vstack((yxgb,yrf)).T\n",
    "trainstack=yxgb.reshape(-1,1)\n",
    "tr=np.concatenate((train,trainstack),axis=1)\n",
    "#训练，采用xgboost训练集成模型，参数用m1中表现最好的参数\n",
    "xgbrg2=xgb.XGBRegressor(gamma=0.5,learning_rate=0.1,max_depth= 6,min_child_weight= 5,objective= 'reg:linear')\n",
    "xgbrg2.fit(tr,ytrain)\n",
    "from sklearn.externals import joblib\n",
    "joblib.dump(xgbrg2, 'xgbrg2.pkl')"
   ]
  },
  {
   "cell_type": "code",
   "execution_count": 75,
   "metadata": {},
   "outputs": [],
   "source": [
    "#测试集计算\n",
    "yxgb_ts=xgbrg1.predict(test)\n",
    "yxrf_ts=rf1.predict(test)\n",
    "\n",
    "# teststack=np.vstack((yxgb_ts,yrf_ts)).T\n",
    "teststack=yxgb_ts.reshape(-1,1)\n",
    "ts=np.concatenate((test,teststack),axis=1)\n",
    "#测试\n",
    "ytest=xgbrg2.predict(ts)\n"
   ]
  },
  {
   "cell_type": "code",
   "execution_count": 77,
   "metadata": {},
   "outputs": [],
   "source": [
    "test0=datatest0[['User_ID','Product_ID']]\n",
    "test0=pd.merge(test0,data_pm,on='Product_ID')\n",
    "test0.loc[:,'Purchase_rate']=ytest\n",
    "test0['Purchase']=test0['Purchase_rate']*test0['Purchase_mean']+test0['Purchase_mean']\n",
    "test0.to_csv('E:\\\\data\\\\sb1.csv')"
   ]
  },
  {
   "cell_type": "code",
   "execution_count": null,
   "metadata": {},
   "outputs": [],
   "source": []
  }
 ],
 "metadata": {
  "kernelspec": {
   "display_name": "Python 3",
   "language": "python",
   "name": "python3"
  },
  "language_info": {
   "codemirror_mode": {
    "name": "ipython",
    "version": 3
   },
   "file_extension": ".py",
   "mimetype": "text/x-python",
   "name": "python",
   "nbconvert_exporter": "python",
   "pygments_lexer": "ipython3",
   "version": "3.6.5"
  }
 },
 "nbformat": 4,
 "nbformat_minor": 2
}
