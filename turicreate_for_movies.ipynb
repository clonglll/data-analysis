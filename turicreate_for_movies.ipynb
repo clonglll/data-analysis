{
  "nbformat": 4,
  "nbformat_minor": 0,
  "metadata": {
    "colab": {
      "name": "turicreate_for_movies.ipynb",
      "version": "0.3.2",
      "provenance": []
    },
    "kernelspec": {
      "name": "python2",
      "display_name": "Python 2"
    },
    "accelerator": "GPU"
  },
  "cells": [
    {
      "metadata": {
        "id": "wramt6xvKv1Z",
        "colab_type": "code",
        "outputId": "b9930e40-0cca-4a59-b4fc-48c5616c78fa",
        "colab": {
          "base_uri": "https://localhost:8080/",
          "height": 377
        }
      },
      "cell_type": "code",
      "source": [
        "#一定要在Python2环境下安装\n",
        "!pip install turicreate"
      ],
      "execution_count": 1,
      "outputs": [
        {
          "output_type": "stream",
          "text": [
            "Requirement already satisfied: turicreate in /usr/local/lib/python2.7/dist-packages (5.3.1)\n",
            "Requirement already satisfied: mxnet<1.2.0,>=1.1.0 in /usr/local/lib/python2.7/dist-packages (from turicreate) (1.1.0.post0)\n",
            "Requirement already satisfied: requests>=2.9.1 in /usr/local/lib/python2.7/dist-packages (from turicreate) (2.18.4)\n",
            "Requirement already satisfied: prettytable==0.7.2 in /usr/local/lib/python2.7/dist-packages (from turicreate) (0.7.2)\n",
            "Requirement already satisfied: numpy in /usr/local/lib/python2.7/dist-packages (from turicreate) (1.14.6)\n",
            "Requirement already satisfied: decorator>=4.0.9 in /usr/local/lib/python2.7/dist-packages (from turicreate) (4.3.2)\n",
            "Requirement already satisfied: pillow>=3.3.0 in /usr/local/lib/python2.7/dist-packages (from turicreate) (4.0.0)\n",
            "Requirement already satisfied: coremltools==2.0b1 in /usr/local/lib/python2.7/dist-packages (from turicreate) (2.0b1)\n",
            "Requirement already satisfied: pandas>=0.19.0 in /usr/local/lib/python2.7/dist-packages (from turicreate) (0.22.0)\n",
            "Requirement already satisfied: graphviz<0.9.0,>=0.8.1 in /usr/local/lib/python2.7/dist-packages (from mxnet<1.2.0,>=1.1.0->turicreate) (0.8.4)\n",
            "Requirement already satisfied: idna<2.7,>=2.5 in /usr/local/lib/python2.7/dist-packages (from requests>=2.9.1->turicreate) (2.6)\n",
            "Requirement already satisfied: urllib3<1.23,>=1.21.1 in /usr/local/lib/python2.7/dist-packages (from requests>=2.9.1->turicreate) (1.22)\n",
            "Requirement already satisfied: certifi>=2017.4.17 in /usr/local/lib/python2.7/dist-packages (from requests>=2.9.1->turicreate) (2018.11.29)\n",
            "Requirement already satisfied: chardet<3.1.0,>=3.0.2 in /usr/local/lib/python2.7/dist-packages (from requests>=2.9.1->turicreate) (3.0.4)\n",
            "Requirement already satisfied: olefile in /usr/local/lib/python2.7/dist-packages (from pillow>=3.3.0->turicreate) (0.46)\n",
            "Requirement already satisfied: six==1.10.0 in /usr/local/lib/python2.7/dist-packages (from coremltools==2.0b1->turicreate) (1.10.0)\n",
            "Requirement already satisfied: protobuf>=3.1.0 in /usr/local/lib/python2.7/dist-packages (from coremltools==2.0b1->turicreate) (3.7.0)\n",
            "Requirement already satisfied: pytz>=2011k in /usr/local/lib/python2.7/dist-packages (from pandas>=0.19.0->turicreate) (2018.9)\n",
            "Requirement already satisfied: python-dateutil in /usr/local/lib/python2.7/dist-packages (from pandas>=0.19.0->turicreate) (2.5.3)\n",
            "Requirement already satisfied: setuptools in /usr/local/lib/python2.7/dist-packages (from protobuf>=3.1.0->coremltools==2.0b1->turicreate) (40.8.0)\n"
          ],
          "name": "stdout"
        }
      ]
    },
    {
      "metadata": {
        "id": "OygH5IDvKzou",
        "colab_type": "code",
        "colab": {}
      },
      "cell_type": "code",
      "source": [
        "import turicreate as tc\n",
        "import pandas as pd\n",
        "import numpy as np"
      ],
      "execution_count": 0,
      "outputs": []
    },
    {
      "metadata": {
        "id": "BtvxEUK6zqqm",
        "colab_type": "code",
        "colab": {}
      },
      "cell_type": "code",
      "source": [
        "items=pd.read_csv('items.csv')\n",
        "ratings=pd.read_csv('ratings.csv')\n",
        "users=pd.read_csv('users.csv')"
      ],
      "execution_count": 0,
      "outputs": []
    },
    {
      "metadata": {
        "id": "e_1UHu458i1r",
        "colab_type": "code",
        "colab": {}
      },
      "cell_type": "code",
      "source": [
        "ratings.drop(['Unnamed: 0'],axis=1,inplace=True)"
      ],
      "execution_count": 0,
      "outputs": []
    },
    {
      "metadata": {
        "id": "325_bVhqNaIq",
        "colab_type": "code",
        "colab": {}
      },
      "cell_type": "code",
      "source": [
        "users.drop(['Unnamed: 0'],axis=1,inplace=True)"
      ],
      "execution_count": 0,
      "outputs": []
    },
    {
      "metadata": {
        "id": "zWC9COKZNNRf",
        "colab_type": "code",
        "colab": {}
      },
      "cell_type": "code",
      "source": [
        "items.drop(['Unnamed: 0'],axis=1,inplace=True)"
      ],
      "execution_count": 0,
      "outputs": []
    },
    {
      "metadata": {
        "id": "mKRBrWOWP4w4",
        "colab_type": "code",
        "outputId": "7ea3dbda-1148-4b9b-db17-b5a29e66d469",
        "colab": {
          "base_uri": "https://localhost:8080/",
          "height": 51
        }
      },
      "cell_type": "code",
      "source": [
        "ratings.groupby('user_id')['movie_id'].count().to_frame().idxmax()"
      ],
      "execution_count": 0,
      "outputs": [
        {
          "output_type": "execute_result",
          "data": {
            "text/plain": [
              "movie_id    405\n",
              "dtype: int64"
            ]
          },
          "metadata": {
            "tags": []
          },
          "execution_count": 7
        }
      ]
    },
    {
      "metadata": {
        "id": "FbHq7W7TtsT6",
        "colab_type": "text"
      },
      "cell_type": "markdown",
      "source": [
        "我们采用评价电影最多的用户（ID：405）来测试"
      ]
    },
    {
      "metadata": {
        "id": "uyvgVe2ZP_jh",
        "colab_type": "text"
      },
      "cell_type": "markdown",
      "source": [
        "1.归一化\n",
        "2.独热编码，划分训练集ratings和测试集\n",
        "3.合并训练集ratings和items，利用sklearn计算电影余弦相似度\n",
        "4.合并训练集ratings和users，计算用户相似度\n",
        "5.电影平均得分，用户平均打分也要算，用于最后匹配\n",
        "6.最后用于预测的特征包括：用户个人平均打分，电影平均得分，与用户最接近的10%的用户对该电影的评分"
      ]
    },
    {
      "metadata": {
        "id": "i45MgiVnvwhF",
        "colab_type": "code",
        "colab": {}
      },
      "cell_type": "code",
      "source": [
        "def f1(t):\n",
        "  return t.year\n",
        "items['rd']=pd.to_datetime(items['release date'], errors = 'coerce').apply(f1)"
      ],
      "execution_count": 0,
      "outputs": []
    },
    {
      "metadata": {
        "id": "5VVRB3Id24ex",
        "colab_type": "code",
        "colab": {}
      },
      "cell_type": "code",
      "source": [
        "items1=items.drop(['movie title','release date','video release date','IMDb URL'],axis=1)"
      ],
      "execution_count": 0,
      "outputs": []
    },
    {
      "metadata": {
        "id": "nV18U83u48VR",
        "colab_type": "code",
        "colab": {}
      },
      "cell_type": "code",
      "source": [
        "#ratings至此完成所有处理\n",
        "ratings1=ratings.drop(['unix_timestamp'],axis=1)"
      ],
      "execution_count": 0,
      "outputs": []
    },
    {
      "metadata": {
        "id": "4AGzXRnl44iy",
        "colab_type": "code",
        "colab": {}
      },
      "cell_type": "code",
      "source": [
        "def f2(sex):\n",
        "  if sex=='M':\n",
        "    sex=1\n",
        "  else:\n",
        "    sex=0\n",
        "    \n",
        "  return sex\n",
        "  \n",
        "users['sex']=users['sex'].apply(f2)"
      ],
      "execution_count": 0,
      "outputs": []
    },
    {
      "metadata": {
        "id": "ynp8SYH35jqG",
        "colab_type": "code",
        "colab": {}
      },
      "cell_type": "code",
      "source": [
        "users1=users.drop(['zip_code'],axis=1)"
      ],
      "execution_count": 0,
      "outputs": []
    },
    {
      "metadata": {
        "id": "PFSWnCa07WBs",
        "colab_type": "code",
        "colab": {}
      },
      "cell_type": "code",
      "source": [
        "users1num=users1.select_dtypes(include='number')\n",
        "users1str=pd.get_dummies(users1.drop(users1num.columns,axis=1))"
      ],
      "execution_count": 0,
      "outputs": []
    },
    {
      "metadata": {
        "id": "w3J9a0wW6Txg",
        "colab_type": "code",
        "colab": {}
      },
      "cell_type": "code",
      "source": [
        "from sklearn import preprocessing\n",
        "mms=preprocessing.MinMaxScaler()"
      ],
      "execution_count": 0,
      "outputs": []
    },
    {
      "metadata": {
        "id": "wKrBFX9x7Gh8",
        "colab_type": "code",
        "colab": {}
      },
      "cell_type": "code",
      "source": [
        "#item归一化\n",
        "items1['rd']=mms.fit_transform(items1.rd.values.reshape(-1,1))"
      ],
      "execution_count": 0,
      "outputs": []
    },
    {
      "metadata": {
        "id": "M3HzRI5RCzgh",
        "colab_type": "code",
        "colab": {}
      },
      "cell_type": "code",
      "source": [
        "#item有一个rd为空，填充即可\n",
        "items1=items1.fillna(axis=1,method='ffill')"
      ],
      "execution_count": 0,
      "outputs": []
    },
    {
      "metadata": {
        "id": "glPfDow88nSd",
        "colab_type": "code",
        "outputId": "53c2094f-ebfb-4b5a-b718-3232e09a6aee",
        "colab": {
          "base_uri": "https://localhost:8080/",
          "height": 139
        }
      },
      "cell_type": "code",
      "source": [
        "#user归一化\n",
        "users1num['age']=mms.fit_transform(users1num.age.values.reshape(-1,1))"
      ],
      "execution_count": 0,
      "outputs": [
        {
          "output_type": "stream",
          "text": [
            "/usr/local/lib/python2.7/dist-packages/ipykernel_launcher.py:1: SettingWithCopyWarning: \n",
            "A value is trying to be set on a copy of a slice from a DataFrame.\n",
            "Try using .loc[row_indexer,col_indexer] = value instead\n",
            "\n",
            "See the caveats in the documentation: http://pandas.pydata.org/pandas-docs/stable/indexing.html#indexing-view-versus-copy\n",
            "  \"\"\"Entry point for launching an IPython kernel.\n"
          ],
          "name": "stderr"
        }
      ]
    },
    {
      "metadata": {
        "id": "ttv6GmHE9zeI",
        "colab_type": "code",
        "colab": {}
      },
      "cell_type": "code",
      "source": [
        "#users至此完成处理\n",
        "users2=pd.concat([users1num,users1str],axis=1)"
      ],
      "execution_count": 0,
      "outputs": []
    },
    {
      "metadata": {
        "id": "-2jtSaAyBUoK",
        "colab_type": "code",
        "colab": {}
      },
      "cell_type": "code",
      "source": [
        "rh=ratings1.head()"
      ],
      "execution_count": 0,
      "outputs": []
    },
    {
      "metadata": {
        "id": "816cmprwD1hE",
        "colab_type": "code",
        "outputId": "d4faa967-42d2-4582-effc-54f2789ee859",
        "colab": {
          "base_uri": "https://localhost:8080/",
          "height": 204
        }
      },
      "cell_type": "code",
      "source": [
        "rh"
      ],
      "execution_count": 0,
      "outputs": [
        {
          "output_type": "execute_result",
          "data": {
            "text/html": [
              "<div>\n",
              "<style scoped>\n",
              "    .dataframe tbody tr th:only-of-type {\n",
              "        vertical-align: middle;\n",
              "    }\n",
              "\n",
              "    .dataframe tbody tr th {\n",
              "        vertical-align: top;\n",
              "    }\n",
              "\n",
              "    .dataframe thead th {\n",
              "        text-align: right;\n",
              "    }\n",
              "</style>\n",
              "<table border=\"1\" class=\"dataframe\">\n",
              "  <thead>\n",
              "    <tr style=\"text-align: right;\">\n",
              "      <th></th>\n",
              "      <th>user_id</th>\n",
              "      <th>movie_id</th>\n",
              "      <th>rating</th>\n",
              "    </tr>\n",
              "  </thead>\n",
              "  <tbody>\n",
              "    <tr>\n",
              "      <th>0</th>\n",
              "      <td>196</td>\n",
              "      <td>242</td>\n",
              "      <td>3</td>\n",
              "    </tr>\n",
              "    <tr>\n",
              "      <th>1</th>\n",
              "      <td>186</td>\n",
              "      <td>302</td>\n",
              "      <td>3</td>\n",
              "    </tr>\n",
              "    <tr>\n",
              "      <th>2</th>\n",
              "      <td>22</td>\n",
              "      <td>377</td>\n",
              "      <td>1</td>\n",
              "    </tr>\n",
              "    <tr>\n",
              "      <th>3</th>\n",
              "      <td>244</td>\n",
              "      <td>51</td>\n",
              "      <td>2</td>\n",
              "    </tr>\n",
              "    <tr>\n",
              "      <th>4</th>\n",
              "      <td>166</td>\n",
              "      <td>346</td>\n",
              "      <td>1</td>\n",
              "    </tr>\n",
              "  </tbody>\n",
              "</table>\n",
              "</div>"
            ],
            "text/plain": [
              "   user_id  movie_id  rating\n",
              "0      196       242       3\n",
              "1      186       302       3\n",
              "2       22       377       1\n",
              "3      244        51       2\n",
              "4      166       346       1"
            ]
          },
          "metadata": {
            "tags": []
          },
          "execution_count": 87
        }
      ]
    },
    {
      "metadata": {
        "id": "1jGY48L5GM0O",
        "colab_type": "code",
        "colab": {}
      },
      "cell_type": "code",
      "source": [
        "lm=len(set(ratings1.movie_id.values))"
      ],
      "execution_count": 0,
      "outputs": []
    },
    {
      "metadata": {
        "id": "NHkZTNE8Gq4-",
        "colab_type": "code",
        "colab": {}
      },
      "cell_type": "code",
      "source": [
        "for i in range(1,lm+1): #总共的电影数量\n",
        "  ratings1['m'+str(i)]=0\n",
        "  "
      ],
      "execution_count": 0,
      "outputs": []
    },
    {
      "metadata": {
        "id": "QQZ4C1kgGwu-",
        "colab_type": "code",
        "colab": {}
      },
      "cell_type": "code",
      "source": [
        "for i in range(len(ratings1)):\n",
        "  m='m'+str(ratings1.loc[i,'movie_id'])\n",
        "  ratings1.loc[i,m]=ratings1.loc[i,'rating']"
      ],
      "execution_count": 0,
      "outputs": []
    },
    {
      "metadata": {
        "id": "SjDOCkDYIDIf",
        "colab_type": "code",
        "colab": {}
      },
      "cell_type": "code",
      "source": [
        "items1.to_csv('items1.csv')\n",
        "users2.to_csv('users2.csv')"
      ],
      "execution_count": 0,
      "outputs": []
    },
    {
      "metadata": {
        "id": "mCldcMQkMtm5",
        "colab_type": "code",
        "colab": {}
      },
      "cell_type": "code",
      "source": [
        "ml=['m'+str(x) for x in range(1,1683)]\n"
      ],
      "execution_count": 0,
      "outputs": []
    },
    {
      "metadata": {
        "id": "QeCwDEDlhK3v",
        "colab_type": "code",
        "colab": {}
      },
      "cell_type": "code",
      "source": [
        "ratings2=ratings1.drop(['movie_id','rating'],axis=1)"
      ],
      "execution_count": 0,
      "outputs": []
    },
    {
      "metadata": {
        "id": "4ZVrsBEtiscC",
        "colab_type": "code",
        "colab": {}
      },
      "cell_type": "code",
      "source": [
        "ratings3=ratings2.groupby('user_id').sum()"
      ],
      "execution_count": 0,
      "outputs": []
    },
    {
      "metadata": {
        "id": "kbVkofUhjl5r",
        "colab_type": "code",
        "colab": {}
      },
      "cell_type": "code",
      "source": [
        "ratings3.to_csv('ratings3.csv')"
      ],
      "execution_count": 0,
      "outputs": []
    },
    {
      "metadata": {
        "id": "0A0wddm2iUBN",
        "colab_type": "code",
        "colab": {}
      },
      "cell_type": "code",
      "source": [
        "items1=pd.read_csv('items1.csv')\n",
        "users2=pd.read_csv('users2.csv')\n",
        "ratings3=pd.read_csv('ratings3.csv')"
      ],
      "execution_count": 0,
      "outputs": []
    },
    {
      "metadata": {
        "id": "oJFBtKvMjFzA",
        "colab_type": "code",
        "colab": {}
      },
      "cell_type": "code",
      "source": [
        "#结合用户信息和用户打分情况，用于得到最后的用户相似度矩阵\n",
        "u2r3=pd.merge(users2,ratings3,on='user_id')"
      ],
      "execution_count": 0,
      "outputs": []
    },
    {
      "metadata": {
        "id": "bjExMOeSjVHG",
        "colab_type": "code",
        "colab": {}
      },
      "cell_type": "code",
      "source": [
        "u2r3.drop(['Unnamed: 0'],axis=1,inplace=True)"
      ],
      "execution_count": 0,
      "outputs": []
    },
    {
      "metadata": {
        "id": "iQXB4XXgttvT",
        "colab_type": "code",
        "colab": {}
      },
      "cell_type": "code",
      "source": [
        "#用户相似度矩阵\n",
        "from  sklearn.metrics.pairwise import pairwise_distances\n",
        "user_similarity  = pairwise_distances(u2r3, metric='cosine')"
      ],
      "execution_count": 0,
      "outputs": []
    },
    {
      "metadata": {
        "id": "cdJ2F4_1uU1R",
        "colab_type": "code",
        "colab": {
          "base_uri": "https://localhost:8080/",
          "height": 34
        },
        "outputId": "b955aae6-6ed0-4e92-ac06-a0abf5c2bc8f"
      },
      "cell_type": "code",
      "source": [
        "#基于用户相似度的初步预测\n",
        "def predict(ratings, similarity):\n",
        "    mean_user_rating  = ratings.mean(axis=1)\n",
        "    #We use  np.newaxis so that mean_user_rating has same format as ratings\n",
        "    ratings_diff =  (ratings - mean_user_rating[:, np.newaxis])\n",
        "    pred =  mean_user_rating[:, np.newaxis] + similarity.dot(ratings_diff) /  np.array([np.abs(similarity).sum(axis=1)]).T\n",
        "    return pred\n",
        "  \n",
        "  user_prediction = predict(ratings, user_similarity)"
      ],
      "execution_count": 25,
      "outputs": [
        {
          "output_type": "execute_result",
          "data": {
            "text/plain": [
              "0.9840428043034449"
            ]
          },
          "metadata": {
            "tags": []
          },
          "execution_count": 25
        }
      ]
    },
    {
      "metadata": {
        "id": "pi8RAZw16owS",
        "colab_type": "code",
        "colab": {}
      },
      "cell_type": "code",
      "source": [
        "r=ratings\n",
        "r.rename(columns={'movie_id':'item_id'},inplace=True)\n"
      ],
      "execution_count": 0,
      "outputs": []
    },
    {
      "metadata": {
        "id": "y_fEcifZ6tjN",
        "colab_type": "code",
        "colab": {}
      },
      "cell_type": "code",
      "source": [
        "from sklearn.model_selection import train_test_split\n",
        "r1,r2=train_test_split(r,test_size=0.2)"
      ],
      "execution_count": 0,
      "outputs": []
    },
    {
      "metadata": {
        "id": "G7Yq46VsuWnu",
        "colab_type": "code",
        "colab": {
          "base_uri": "https://localhost:8080/",
          "height": 765
        },
        "outputId": "1eba0ff7-d5a9-450c-ccc1-4a87e2136af0"
      },
      "cell_type": "code",
      "source": [
        "#利用turicreate进行基于项目相似度的预测\n",
        "\n",
        "\n",
        "# r.drop(['Unnamed: 0','unix_timestamp'],axis=1,inplace=True)\n",
        "data = tc.SFrame(r1)\n",
        "\n",
        "m = tc.item_similarity_recommender.create(data,target=\"rating\")\n",
        "nn = m.get_similar_items()\n",
        "print(nn)\n",
        "\n",
        "m2 = tc.item_similarity_recommender.create(data, nearest_items=nn,target='rating')\n"
      ],
      "execution_count": 61,
      "outputs": [
        {
          "output_type": "display_data",
          "data": {
            "text/plain": [
              "Preparing data set."
            ],
            "text/html": [
              "<pre>Preparing data set.</pre>"
            ]
          },
          "metadata": {
            "tags": []
          }
        },
        {
          "output_type": "display_data",
          "data": {
            "text/plain": [
              "    Data has 80000 observations with 943 users and 1649 items."
            ],
            "text/html": [
              "<pre>    Data has 80000 observations with 943 users and 1649 items.</pre>"
            ]
          },
          "metadata": {
            "tags": []
          }
        },
        {
          "output_type": "display_data",
          "data": {
            "text/plain": [
              "    Data prepared in: 0.095615s"
            ],
            "text/html": [
              "<pre>    Data prepared in: 0.095615s</pre>"
            ]
          },
          "metadata": {
            "tags": []
          }
        },
        {
          "output_type": "display_data",
          "data": {
            "text/plain": [
              "Training model from provided data."
            ],
            "text/html": [
              "<pre>Training model from provided data.</pre>"
            ]
          },
          "metadata": {
            "tags": []
          }
        },
        {
          "output_type": "display_data",
          "data": {
            "text/plain": [
              "Gathering per-item and per-user statistics."
            ],
            "text/html": [
              "<pre>Gathering per-item and per-user statistics.</pre>"
            ]
          },
          "metadata": {
            "tags": []
          }
        },
        {
          "output_type": "display_data",
          "data": {
            "text/plain": [
              "+--------------------------------+------------+"
            ],
            "text/html": [
              "<pre>+--------------------------------+------------+</pre>"
            ]
          },
          "metadata": {
            "tags": []
          }
        },
        {
          "output_type": "display_data",
          "data": {
            "text/plain": [
              "| Elapsed Time (Item Statistics) | % Complete |"
            ],
            "text/html": [
              "<pre>| Elapsed Time (Item Statistics) | % Complete |</pre>"
            ]
          },
          "metadata": {
            "tags": []
          }
        },
        {
          "output_type": "display_data",
          "data": {
            "text/plain": [
              "+--------------------------------+------------+"
            ],
            "text/html": [
              "<pre>+--------------------------------+------------+</pre>"
            ]
          },
          "metadata": {
            "tags": []
          }
        },
        {
          "output_type": "display_data",
          "data": {
            "text/plain": [
              "| 7.08ms                         | 100        |"
            ],
            "text/html": [
              "<pre>| 7.08ms                         | 100        |</pre>"
            ]
          },
          "metadata": {
            "tags": []
          }
        },
        {
          "output_type": "display_data",
          "data": {
            "text/plain": [
              "+--------------------------------+------------+"
            ],
            "text/html": [
              "<pre>+--------------------------------+------------+</pre>"
            ]
          },
          "metadata": {
            "tags": []
          }
        },
        {
          "output_type": "display_data",
          "data": {
            "text/plain": [
              "Setting up lookup tables."
            ],
            "text/html": [
              "<pre>Setting up lookup tables.</pre>"
            ]
          },
          "metadata": {
            "tags": []
          }
        },
        {
          "output_type": "display_data",
          "data": {
            "text/plain": [
              "Processing data in one pass using dense lookup tables."
            ],
            "text/html": [
              "<pre>Processing data in one pass using dense lookup tables.</pre>"
            ]
          },
          "metadata": {
            "tags": []
          }
        },
        {
          "output_type": "display_data",
          "data": {
            "text/plain": [
              "+-------------------------------------+------------------+-----------------+"
            ],
            "text/html": [
              "<pre>+-------------------------------------+------------------+-----------------+</pre>"
            ]
          },
          "metadata": {
            "tags": []
          }
        },
        {
          "output_type": "display_data",
          "data": {
            "text/plain": [
              "| Elapsed Time (Constructing Lookups) | Total % Complete | Items Processed |"
            ],
            "text/html": [
              "<pre>| Elapsed Time (Constructing Lookups) | Total % Complete | Items Processed |</pre>"
            ]
          },
          "metadata": {
            "tags": []
          }
        },
        {
          "output_type": "display_data",
          "data": {
            "text/plain": [
              "+-------------------------------------+------------------+-----------------+"
            ],
            "text/html": [
              "<pre>+-------------------------------------+------------------+-----------------+</pre>"
            ]
          },
          "metadata": {
            "tags": []
          }
        },
        {
          "output_type": "display_data",
          "data": {
            "text/plain": [
              "| 12.112ms                            | 0.5              | 8               |"
            ],
            "text/html": [
              "<pre>| 12.112ms                            | 0.5              | 8               |</pre>"
            ]
          },
          "metadata": {
            "tags": []
          }
        },
        {
          "output_type": "display_data",
          "data": {
            "text/plain": [
              "| 224.005ms                           | 100              | 1649            |"
            ],
            "text/html": [
              "<pre>| 224.005ms                           | 100              | 1649            |</pre>"
            ]
          },
          "metadata": {
            "tags": []
          }
        },
        {
          "output_type": "display_data",
          "data": {
            "text/plain": [
              "+-------------------------------------+------------------+-----------------+"
            ],
            "text/html": [
              "<pre>+-------------------------------------+------------------+-----------------+</pre>"
            ]
          },
          "metadata": {
            "tags": []
          }
        },
        {
          "output_type": "display_data",
          "data": {
            "text/plain": [
              "Finalizing lookup tables."
            ],
            "text/html": [
              "<pre>Finalizing lookup tables.</pre>"
            ]
          },
          "metadata": {
            "tags": []
          }
        },
        {
          "output_type": "display_data",
          "data": {
            "text/plain": [
              "Generating candidate set for working with new users."
            ],
            "text/html": [
              "<pre>Generating candidate set for working with new users.</pre>"
            ]
          },
          "metadata": {
            "tags": []
          }
        },
        {
          "output_type": "display_data",
          "data": {
            "text/plain": [
              "Finished training in 0.247346s"
            ],
            "text/html": [
              "<pre>Finished training in 0.247346s</pre>"
            ]
          },
          "metadata": {
            "tags": []
          }
        },
        {
          "output_type": "stream",
          "text": [
            "+---------+---------+----------------+------+\n",
            "| item_id | similar |     score      | rank |\n",
            "+---------+---------+----------------+------+\n",
            "|   423   |    69   | 0.471810102463 |  1   |\n",
            "|   423   |    28   | 0.434083580971 |  2   |\n",
            "|   423   |   204   | 0.405633807182 |  3   |\n",
            "|   423   |   143   | 0.398625433445 |  4   |\n",
            "|   423   |   132   | 0.396103918552 |  5   |\n",
            "|   423   |   196   | 0.394822001457 |  6   |\n",
            "|   423   |   215   | 0.393103420734 |  7   |\n",
            "|   423   |   210   | 0.392550170422 |  8   |\n",
            "|   423   |    97   | 0.391585767269 |  9   |\n",
            "|   423   |   172   | 0.385224282742 |  10  |\n",
            "+---------+---------+----------------+------+\n",
            "[16490 rows x 4 columns]\n",
            "Note: Only the head of the SFrame is printed.\n",
            "You can use print_rows(num_rows=m, num_columns=n) to print more rows and columns.\n"
          ],
          "name": "stdout"
        },
        {
          "output_type": "display_data",
          "data": {
            "text/plain": [
              "Preparing data set."
            ],
            "text/html": [
              "<pre>Preparing data set.</pre>"
            ]
          },
          "metadata": {
            "tags": []
          }
        },
        {
          "output_type": "display_data",
          "data": {
            "text/plain": [
              "    Data has 80000 observations with 943 users and 1649 items."
            ],
            "text/html": [
              "<pre>    Data has 80000 observations with 943 users and 1649 items.</pre>"
            ]
          },
          "metadata": {
            "tags": []
          }
        },
        {
          "output_type": "display_data",
          "data": {
            "text/plain": [
              "    Data prepared in: 0.096913s"
            ],
            "text/html": [
              "<pre>    Data prepared in: 0.096913s</pre>"
            ]
          },
          "metadata": {
            "tags": []
          }
        },
        {
          "output_type": "display_data",
          "data": {
            "text/plain": [
              "Loading user-provided nearest items."
            ],
            "text/html": [
              "<pre>Loading user-provided nearest items.</pre>"
            ]
          },
          "metadata": {
            "tags": []
          }
        },
        {
          "output_type": "display_data",
          "data": {
            "text/plain": [
              "Generating candidate set for working with new users."
            ],
            "text/html": [
              "<pre>Generating candidate set for working with new users.</pre>"
            ]
          },
          "metadata": {
            "tags": []
          }
        },
        {
          "output_type": "display_data",
          "data": {
            "text/plain": [
              "Finished training in 0.023361s"
            ],
            "text/html": [
              "<pre>Finished training in 0.023361s</pre>"
            ]
          },
          "metadata": {
            "tags": []
          }
        }
      ]
    },
    {
      "metadata": {
        "id": "Hhh6ZsZE6b5A",
        "colab_type": "code",
        "colab": {
          "base_uri": "https://localhost:8080/",
          "height": 2720
        },
        "outputId": "8a6fefbb-510e-42e0-8136-ce5a5d6ae888"
      },
      "cell_type": "code",
      "source": [
        "data2=tc.SFrame(r2)\n",
        "m2.predict(data2)\n",
        "\n",
        "m2.recommend()\n",
        "m2.evaluate(data2)"
      ],
      "execution_count": 62,
      "outputs": [
        {
          "output_type": "stream",
          "text": [
            "\n",
            "Precision and recall summary statistics by cutoff\n",
            "+--------+----------------+-----------------+\n",
            "| cutoff | mean_precision |   mean_recall   |\n",
            "+--------+----------------+-----------------+\n",
            "|   1    | 0.435244161359 | 0.0330448003778 |\n",
            "|   2    | 0.398619957537 | 0.0592603776616 |\n",
            "|   3    | 0.379688605803 | 0.0829692782894 |\n",
            "|   4    | 0.366242038217 |  0.105420938316 |\n",
            "|   5    | 0.347558386412 |  0.121434504401 |\n",
            "|   6    | 0.331564048125 |  0.137146069857 |\n",
            "|   7    | 0.320746132848 |  0.15389207189  |\n",
            "|   8    | 0.313826963907 |  0.169561071813 |\n",
            "|   9    | 0.303373437131 |  0.182223296845 |\n",
            "|   10   | 0.293099787686 |  0.193445451611 |\n",
            "+--------+----------------+-----------------+\n",
            "[10 rows x 3 columns]\n",
            "\n",
            "\n",
            "Overall RMSE: 3.69538328159\n",
            "\n",
            "Per User RMSE (best)\n",
            "+---------+-------+---------------+\n",
            "| user_id | count |      rmse     |\n",
            "+---------+-------+---------------+\n",
            "|   685   |   5   | 1.46554017414 |\n",
            "+---------+-------+---------------+\n",
            "[1 rows x 3 columns]\n",
            "\n",
            "\n",
            "Per User RMSE (worst)\n",
            "+---------+-------+------+\n",
            "| user_id | count | rmse |\n",
            "+---------+-------+------+\n",
            "|   261   |   1   | 5.0  |\n",
            "+---------+-------+------+\n",
            "[1 rows x 3 columns]\n",
            "\n",
            "\n",
            "Per Item RMSE (best)\n",
            "+---------+-------+----------------+\n",
            "| item_id | count |      rmse      |\n",
            "+---------+-------+----------------+\n",
            "|   437   |   1   | 0.982774389953 |\n",
            "+---------+-------+----------------+\n",
            "[1 rows x 3 columns]\n",
            "\n",
            "\n",
            "Per Item RMSE (worst)\n",
            "+---------+-------+------+\n",
            "| item_id | count | rmse |\n",
            "+---------+-------+------+\n",
            "|   1599  |   1   | 5.0  |\n",
            "+---------+-------+------+\n",
            "[1 rows x 3 columns]\n",
            "\n"
          ],
          "name": "stdout"
        },
        {
          "output_type": "execute_result",
          "data": {
            "text/plain": [
              "{'precision_recall_by_user': Columns:\n",
              " \tuser_id\tint\n",
              " \tcutoff\tint\n",
              " \tprecision\tfloat\n",
              " \trecall\tfloat\n",
              " \tcount\tint\n",
              " \n",
              " Rows: 16956\n",
              " \n",
              " Data:\n",
              " +---------+--------+----------------+-----------------+-------+\n",
              " | user_id | cutoff |   precision    |      recall     | count |\n",
              " +---------+--------+----------------+-----------------+-------+\n",
              " |    1    |   1    |      1.0       | 0.0169491525424 |   59  |\n",
              " |    1    |   2    |      1.0       | 0.0338983050847 |   59  |\n",
              " |    1    |   3    | 0.666666666667 | 0.0338983050847 |   59  |\n",
              " |    1    |   4    |      0.5       | 0.0338983050847 |   59  |\n",
              " |    1    |   5    |      0.6       | 0.0508474576271 |   59  |\n",
              " |    1    |   6    | 0.666666666667 | 0.0677966101695 |   59  |\n",
              " |    1    |   7    | 0.571428571429 | 0.0677966101695 |   59  |\n",
              " |    1    |   8    |      0.5       | 0.0677966101695 |   59  |\n",
              " |    1    |   9    | 0.444444444444 | 0.0677966101695 |   59  |\n",
              " |    1    |   10   |      0.4       | 0.0677966101695 |   59  |\n",
              " +---------+--------+----------------+-----------------+-------+\n",
              " [16956 rows x 5 columns]\n",
              " Note: Only the head of the SFrame is printed.\n",
              " You can use print_rows(num_rows=m, num_columns=n) to print more rows and columns.,\n",
              " 'precision_recall_overall': Columns:\n",
              " \tcutoff\tint\n",
              " \tprecision\tfloat\n",
              " \trecall\tfloat\n",
              " \n",
              " Rows: 18\n",
              " \n",
              " Data:\n",
              " +--------+----------------+-----------------+\n",
              " | cutoff |   precision    |      recall     |\n",
              " +--------+----------------+-----------------+\n",
              " |   1    | 0.435244161359 | 0.0330448003778 |\n",
              " |   2    | 0.398619957537 | 0.0592603776616 |\n",
              " |   3    | 0.379688605803 | 0.0829692782894 |\n",
              " |   4    | 0.366242038217 |  0.105420938316 |\n",
              " |   5    | 0.347558386412 |  0.121434504401 |\n",
              " |   6    | 0.331564048125 |  0.137146069857 |\n",
              " |   7    | 0.320746132848 |  0.15389207189  |\n",
              " |   8    | 0.313826963907 |  0.169561071813 |\n",
              " |   9    | 0.303373437131 |  0.182223296845 |\n",
              " |   10   | 0.293099787686 |  0.193445451611 |\n",
              " +--------+----------------+-----------------+\n",
              " [18 rows x 3 columns]\n",
              " Note: Only the head of the SFrame is printed.\n",
              " You can use print_rows(num_rows=m, num_columns=n) to print more rows and columns.,\n",
              " 'rmse_by_item': Columns:\n",
              " \titem_id\tint\n",
              " \tcount\tint\n",
              " \trmse\tfloat\n",
              " \n",
              " Rows: 1417\n",
              " \n",
              " Data:\n",
              " +---------+-------+---------------+\n",
              " | item_id | count |      rmse     |\n",
              " +---------+-------+---------------+\n",
              " |   1611  |   1   | 2.99723661502 |\n",
              " |   118   |   64  | 3.41330128286 |\n",
              " |   660   |   34  | 3.69211191991 |\n",
              " |   1379  |   1   | 2.99540587194 |\n",
              " |   839   |   1   | 3.99873737359 |\n",
              " |   699   |   20  | 4.04068299898 |\n",
              " |   567   |   6   | 3.01772099319 |\n",
              " |   773   |   3   | 2.51526581472 |\n",
              " |   1029  |   1   |  2.9993359893 |\n",
              " |   1504  |   1   |      4.0      |\n",
              " +---------+-------+---------------+\n",
              " [1417 rows x 3 columns]\n",
              " Note: Only the head of the SFrame is printed.\n",
              " You can use print_rows(num_rows=m, num_columns=n) to print more rows and columns.,\n",
              " 'rmse_by_user': Columns:\n",
              " \tuser_id\tint\n",
              " \tcount\tint\n",
              " \trmse\tfloat\n",
              " \n",
              " Rows: 942\n",
              " \n",
              " Data:\n",
              " +---------+-------+---------------+\n",
              " | user_id | count |      rmse     |\n",
              " +---------+-------+---------------+\n",
              " |   118   |   16  | 4.59885291499 |\n",
              " |   660   |   44  | 2.58437332081 |\n",
              " |   839   |   13  |  3.4414490271 |\n",
              " |   699   |   26  | 3.27524115873 |\n",
              " |   567   |   26  | 3.98591296827 |\n",
              " |   773   |   36  | 3.68000775852 |\n",
              " |   435   |   80  |  3.3804822991 |\n",
              " |   554   |   28  | 3.66145380437 |\n",
              " |   898   |   2   | 3.09741846745 |\n",
              " |   840   |   31  | 4.25015949935 |\n",
              " +---------+-------+---------------+\n",
              " [942 rows x 3 columns]\n",
              " Note: Only the head of the SFrame is printed.\n",
              " You can use print_rows(num_rows=m, num_columns=n) to print more rows and columns.,\n",
              " 'rmse_overall': 3.69538328158732}"
            ]
          },
          "metadata": {
            "tags": []
          },
          "execution_count": 62
        }
      ]
    },
    {
      "metadata": {
        "id": "k5K8WeB_9Dvb",
        "colab_type": "code",
        "colab": {}
      },
      "cell_type": "code",
      "source": [
        ""
      ],
      "execution_count": 0,
      "outputs": []
    }
  ]
}