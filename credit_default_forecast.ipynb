{
 "cells": [
  {
   "cell_type": "code",
   "execution_count": 1,
   "metadata": {},
   "outputs": [],
   "source": [
    "import pandas as pd\n",
    "import numpy as np\n",
    "import sklearn \n",
    "import matplotlib.pyplot as plt\n",
    "import seaborn as sns"
   ]
  },
  {
   "cell_type": "code",
   "execution_count": 2,
   "metadata": {},
   "outputs": [],
   "source": [
    "data_master=pd.read_csv('E:\\data\\PPD_Training_Master_GBK_3_1_Training_Set.csv',encoding='gb18030') #这里是gbk编码，encode需要进行处理\n",
    "data_log=pd.read_csv('E:\\data\\PPDlog.csv',encoding='gb18030')\n",
    "data_update=pd.read_csv('E:\\data\\PPDupdate.csv',encoding='gb18030')\n",
    "# data=pd.concat([data_master,data_log,data_updata],axis=1)"
   ]
  },
  {
   "cell_type": "code",
   "execution_count": 3,
   "metadata": {},
   "outputs": [],
   "source": [
    "#将'不详' 转为空值,将Idx转为字符类型\n",
    "data_master=data_master.replace('不详',np.nan)\n",
    "data_master['Idx']=data_master['Idx'].apply(str)\n",
    "data_log['Idx']=data_log['Idx'].apply(str)\n",
    "data_update['Idx']=data_update['Idx'].apply(str)"
   ]
  },
  {
   "cell_type": "code",
   "execution_count": 4,
   "metadata": {},
   "outputs": [],
   "source": [
    "#观察缺失值情况，并进行细化处理\n",
    "na_percent=(data_master.isnull().sum()/data_master.isnull().count()).sort_values(ascending=False)\n",
    "nap=na_percent.to_frame()\n"
   ]
  },
  {
   "cell_type": "code",
   "execution_count": 5,
   "metadata": {},
   "outputs": [],
   "source": [
    "#空值率高于0.9的字段直接删除\n",
    "nap=na_percent.to_frame()\n",
    "data_master=data_master[nap[nap<0.9].dropna().index.tolist()]  #将包含这些列名的列扔掉，注意对测试集做相同处理"
   ]
  },
  {
   "cell_type": "code",
   "execution_count": 6,
   "metadata": {},
   "outputs": [],
   "source": [
    "#这里我们不像之前的空值简单的用众数或者中位数填充，对user_info11这样的字段，我们将空值用-1填充，因为未填充也可以看做某种特征\n",
    "data_master['UserInfo_11'].fillna(-1,inplace=True)\n",
    "data_master['UserInfo_12'].fillna(-1,inplace=True)\n",
    "data_master['UserInfo_12'].fillna(-1,inplace=True)"
   ]
  },
  {
   "cell_type": "code",
   "execution_count": 7,
   "metadata": {},
   "outputs": [],
   "source": [
    "#对于剩余的空值，用众数填充\n"
   ]
  },
  {
   "cell_type": "code",
   "execution_count": 8,
   "metadata": {},
   "outputs": [],
   "source": [
    "#另外有一些字段的特征需要进行其他的预处理\n",
    "#将字母全部转为小写，空格全部删除，带省市的后缀全部删除\n",
    "def to_lower(s):\n",
    "    return s.lower()\n",
    "#删除空格\n",
    "def del_sp(s):\n",
    "    import re\n",
    "    a=re.sub('\\s','',s)\n",
    "    return a\n",
    "\n",
    "#删除省市\n",
    "def del_s(s):\n",
    "    import re\n",
    "    a=s.replace('市','')\n",
    "    b=a.replace('省','')\n",
    "    return b\n",
    "\n",
    "#判断中文\n",
    "def is_c(uchar):\n",
    "        if uchar >= u'\\u4e00' and uchar<=u'\\u9fa5':\n",
    "                return True\n",
    "        else:\n",
    "                return False\n",
    "            \n",
    "#进行处理，分为中文和英文\n",
    "clstr=data_master.select_dtypes(include=['object']).columns.tolist()\n",
    "clz=[]\n",
    "clw=[]\n",
    "for c in clstr:\n",
    "    if is_c(data_master.loc[0,c]):\n",
    "        clz.append(c)\n",
    "    else:\n",
    "        clw.append(c)\n",
    "\n",
    "data_master[clz]=data_master[clz].applymap(del_sp)\n",
    "data_master[clz]=data_master[clz].applymap(del_s)\n",
    "\n",
    "data_master[clw]=data_master[clw].applymap(del_sp)\n",
    "data_master[clw]=data_master[clw].applymap(to_lower)"
   ]
  },
  {
   "cell_type": "code",
   "execution_count": 9,
   "metadata": {},
   "outputs": [],
   "source": [
    "#对update数据集进行统一小写处理\n",
    "#当只有一列时为series，此时用apply而不是applymap\n",
    "clw='UserupdateInfo1'\n",
    "data_update[clw]=data_update[clw].apply(del_sp)\n",
    "data_update[clw]=data_update[clw].apply(to_lower)"
   ]
  },
  {
   "cell_type": "code",
   "execution_count": 10,
   "metadata": {},
   "outputs": [],
   "source": [
    "#由于这个数据集的特征主要以类别为主，且很多类别特征列的类型是数字，因此有必要将其转为字符字段后进行独热编码。\n",
    "#但在此之前对于城市字段应将其进行空间上的聚类，利用经纬度，并将其返回到一个6-10的向量中储存"
   ]
  },
  {
   "cell_type": "code",
   "execution_count": 11,
   "metadata": {},
   "outputs": [],
   "source": [
    "cityr_dr='E:\\data\\city_ranking.txt'\n",
    "#l用来存储6个城市分级\n",
    "l=6*[1]\n",
    "for i in range(6):\n",
    "    l[i]=[]\n",
    "    \n",
    "with open(cityr_dr,'r') as f:\n",
    "    i=0   \n",
    "    for line in f.readlines():        \n",
    "        if line.find('线城市')==-1:\n",
    "            a=line.strip('\\n')\n",
    "            #这里用条件语句是为了避免直辖市\n",
    "            if a.find('：')==-1:\n",
    "                b=a\n",
    "            else:\n",
    "                a=a.split('：')\n",
    "                b=a[1]\n",
    "                \n",
    "            c=del_s(b)\n",
    "            l[i].append(c)\n",
    "        else:            #当发现城市评级标志，转到下一个城市分级列表进行存储\n",
    "            i=i+1\n",
    "\n"
   ]
  },
  {
   "cell_type": "code",
   "execution_count": 12,
   "metadata": {},
   "outputs": [],
   "source": [
    "#将城市标签转为分级标签进行存储\n",
    "def to_rank(s):\n",
    "    for i in range(6):\n",
    "        if s in l[i]:\n",
    "            a=i\n",
    "            break\n",
    "        elif i==5:\n",
    "            a=i\n",
    "    return a\n",
    "\n",
    "#包含城市字段的列表lc\n",
    "lc=['UserInfo_2','UserInfo_4','UserInfo_8','UserInfo_20']\n",
    "lp=['UserInfo_7','UserInfo_19']\n",
    "\n",
    "data_master[lc]=data_master[lc].applymap(to_rank)"
   ]
  },
  {
   "cell_type": "code",
   "execution_count": 13,
   "metadata": {
    "scrolled": true
   },
   "outputs": [
    {
     "data": {
      "text/html": [
       "<div>\n",
       "<style scoped>\n",
       "    .dataframe tbody tr th:only-of-type {\n",
       "        vertical-align: middle;\n",
       "    }\n",
       "\n",
       "    .dataframe tbody tr th {\n",
       "        vertical-align: top;\n",
       "    }\n",
       "\n",
       "    .dataframe thead th {\n",
       "        text-align: right;\n",
       "    }\n",
       "</style>\n",
       "<table border=\"1\" class=\"dataframe\">\n",
       "  <thead>\n",
       "    <tr style=\"text-align: right;\">\n",
       "      <th></th>\n",
       "      <th>Idx</th>\n",
       "      <th>ListingInfo</th>\n",
       "      <th>UserInfo_19</th>\n",
       "      <th>UserInfo_7</th>\n",
       "      <th>WeblogInfo_20</th>\n",
       "      <th>UserInfo_9</th>\n",
       "      <th>WeblogInfo_21</th>\n",
       "      <th>WeblogInfo_19</th>\n",
       "      <th>UserInfo_24</th>\n",
       "      <th>UserInfo_23</th>\n",
       "      <th>Education_Info2</th>\n",
       "      <th>Education_Info3</th>\n",
       "      <th>Education_Info4</th>\n",
       "      <th>UserInfo_22</th>\n",
       "      <th>Education_Info6</th>\n",
       "      <th>Education_Info8</th>\n",
       "      <th>Education_Info7</th>\n",
       "    </tr>\n",
       "  </thead>\n",
       "  <tbody>\n",
       "    <tr>\n",
       "      <th>m</th>\n",
       "      <td>1.0</td>\n",
       "      <td>431.0</td>\n",
       "      <td>2405.0</td>\n",
       "      <td>8094.0</td>\n",
       "      <td>19192.0</td>\n",
       "      <td>21455.0</td>\n",
       "      <td>24752.0</td>\n",
       "      <td>24940.0</td>\n",
       "      <td>27868.0</td>\n",
       "      <td>28003.0</td>\n",
       "      <td>28110.0</td>\n",
       "      <td>28110.0</td>\n",
       "      <td>28110.0</td>\n",
       "      <td>28163.0</td>\n",
       "      <td>29026.0</td>\n",
       "      <td>29143.0</td>\n",
       "      <td>30000.0</td>\n",
       "    </tr>\n",
       "    <tr>\n",
       "      <th>c</th>\n",
       "      <td>30000.0</td>\n",
       "      <td>338.0</td>\n",
       "      <td>31.0</td>\n",
       "      <td>31.0</td>\n",
       "      <td>36.0</td>\n",
       "      <td>3.0</td>\n",
       "      <td>4.0</td>\n",
       "      <td>7.0</td>\n",
       "      <td>1962.0</td>\n",
       "      <td>26.0</td>\n",
       "      <td>7.0</td>\n",
       "      <td>3.0</td>\n",
       "      <td>6.0</td>\n",
       "      <td>6.0</td>\n",
       "      <td>6.0</td>\n",
       "      <td>6.0</td>\n",
       "      <td>1.0</td>\n",
       "    </tr>\n",
       "  </tbody>\n",
       "</table>\n",
       "</div>"
      ],
      "text/plain": [
       "       Idx  ListingInfo  UserInfo_19  UserInfo_7  WeblogInfo_20  UserInfo_9  \\\n",
       "m      1.0        431.0       2405.0      8094.0        19192.0     21455.0   \n",
       "c  30000.0        338.0         31.0        31.0           36.0         3.0   \n",
       "\n",
       "   WeblogInfo_21  WeblogInfo_19  UserInfo_24  UserInfo_23  Education_Info2  \\\n",
       "m        24752.0        24940.0      27868.0      28003.0          28110.0   \n",
       "c            4.0            7.0       1962.0         26.0              7.0   \n",
       "\n",
       "   Education_Info3  Education_Info4  UserInfo_22  Education_Info6  \\\n",
       "m          28110.0          28110.0      28163.0          29026.0   \n",
       "c              3.0              6.0          6.0              6.0   \n",
       "\n",
       "   Education_Info8  Education_Info7  \n",
       "m          29143.0          30000.0  \n",
       "c              6.0              1.0  "
      ]
     },
     "execution_count": 13,
     "metadata": {},
     "output_type": "execute_result"
    }
   ],
   "source": [
    "#一些字段（如详细地址）可能包含很多非重复情况，但对实际并没有用，我们将类型为字符串的字段提出来，\n",
    "#观察两个方面，非重复的计数以及计数最多元素的数量，如果前者多且后者少，直接删除字段，如果前者多而后者多，将该元素和其他元素做二元编码\n",
    "count_max=pd.DataFrame(index={'c','m'})\n",
    "\n",
    "dm_str=data_master.select_dtypes(include='object')\n",
    "\n",
    "for c in dm_str.columns.tolist():\n",
    "    count_max.loc['c',c]=len(dm_str[c].unique())\n",
    "    count_max.loc['m',c]=dm_str.groupby(c).count().apply(max).max()\n",
    "count_max.sort_values(by='m',axis=1)"
   ]
  },
  {
   "cell_type": "code",
   "execution_count": 14,
   "metadata": {},
   "outputs": [],
   "source": [
    "#根据上表进行操作\n",
    "data_master.drop('Education_Info7',inplace=True,axis=1)\n",
    "\n",
    "#针对us24专门进行处理的函数\n",
    "def f(x):\n",
    "    if x!='d':\n",
    "        x='nd'\n",
    "    return x\n",
    "\n",
    "data_master['UserInfo_24']=data_master['UserInfo_24'].apply(f)"
   ]
  },
  {
   "cell_type": "code",
   "execution_count": 15,
   "metadata": {},
   "outputs": [],
   "source": [
    "#一些字段虽然是数字类型，但数量稀少考虑将其进行独热编码\n",
    "u_count=pd.DataFrame(index=[0])\n",
    "\n",
    "for c in data_master.columns.tolist():\n",
    "    u_count.loc[0,c]=len(data_master[c].unique())\n",
    "u_sort=u_count.sort_values(by=0,axis=1)"
   ]
  },
  {
   "cell_type": "code",
   "execution_count": 16,
   "metadata": {},
   "outputs": [
    {
     "data": {
      "text/html": [
       "<div>\n",
       "<style scoped>\n",
       "    .dataframe tbody tr th:only-of-type {\n",
       "        vertical-align: middle;\n",
       "    }\n",
       "\n",
       "    .dataframe tbody tr th {\n",
       "        vertical-align: top;\n",
       "    }\n",
       "\n",
       "    .dataframe thead th {\n",
       "        text-align: right;\n",
       "    }\n",
       "</style>\n",
       "<table border=\"1\" class=\"dataframe\">\n",
       "  <thead>\n",
       "    <tr style=\"text-align: right;\">\n",
       "      <th></th>\n",
       "      <th>UserInfo_19</th>\n",
       "      <th>UserInfo_7</th>\n",
       "      <th>WeblogInfo_5</th>\n",
       "      <th>ThirdParty_Info_Period7_9</th>\n",
       "      <th>WeblogInfo_20</th>\n",
       "      <th>UserInfo_18</th>\n",
       "      <th>WeblogInfo_9</th>\n",
       "      <th>WeblogInfo_8</th>\n",
       "      <th>WeblogInfo_15</th>\n",
       "      <th>WeblogInfo_6</th>\n",
       "      <th>...</th>\n",
       "      <th>ThirdParty_Info_Period3_9</th>\n",
       "      <th>ThirdParty_Info_Period1_9</th>\n",
       "      <th>ThirdParty_Info_Period6_12</th>\n",
       "      <th>ThirdParty_Info_Period7_6</th>\n",
       "      <th>WeblogInfo_17</th>\n",
       "      <th>ThirdParty_Info_Period2_9</th>\n",
       "      <th>ThirdParty_Info_Period5_12</th>\n",
       "      <th>ThirdParty_Info_Period1_11</th>\n",
       "      <th>ThirdParty_Info_Period1_12</th>\n",
       "      <th>ThirdParty_Info_Period6_11</th>\n",
       "    </tr>\n",
       "  </thead>\n",
       "  <tbody>\n",
       "    <tr>\n",
       "      <th>0</th>\n",
       "      <td>31.0</td>\n",
       "      <td>31.0</td>\n",
       "      <td>34.0</td>\n",
       "      <td>35.0</td>\n",
       "      <td>36.0</td>\n",
       "      <td>39.0</td>\n",
       "      <td>39.0</td>\n",
       "      <td>48.0</td>\n",
       "      <td>51.0</td>\n",
       "      <td>58.0</td>\n",
       "      <td>...</td>\n",
       "      <td>92.0</td>\n",
       "      <td>93.0</td>\n",
       "      <td>97.0</td>\n",
       "      <td>102.0</td>\n",
       "      <td>104.0</td>\n",
       "      <td>104.0</td>\n",
       "      <td>111.0</td>\n",
       "      <td>112.0</td>\n",
       "      <td>121.0</td>\n",
       "      <td>124.0</td>\n",
       "    </tr>\n",
       "  </tbody>\n",
       "</table>\n",
       "<p>1 rows × 30 columns</p>\n",
       "</div>"
      ],
      "text/plain": [
       "   UserInfo_19  UserInfo_7  WeblogInfo_5  ThirdParty_Info_Period7_9  \\\n",
       "0         31.0        31.0          34.0                       35.0   \n",
       "\n",
       "   WeblogInfo_20  UserInfo_18  WeblogInfo_9  WeblogInfo_8  WeblogInfo_15  \\\n",
       "0           36.0         39.0          39.0          48.0           51.0   \n",
       "\n",
       "   WeblogInfo_6             ...              ThirdParty_Info_Period3_9  \\\n",
       "0          58.0             ...                                   92.0   \n",
       "\n",
       "   ThirdParty_Info_Period1_9  ThirdParty_Info_Period6_12  \\\n",
       "0                       93.0                        97.0   \n",
       "\n",
       "   ThirdParty_Info_Period7_6  WeblogInfo_17  ThirdParty_Info_Period2_9  \\\n",
       "0                      102.0          104.0                      104.0   \n",
       "\n",
       "   ThirdParty_Info_Period5_12  ThirdParty_Info_Period1_11  \\\n",
       "0                       111.0                       112.0   \n",
       "\n",
       "   ThirdParty_Info_Period1_12  ThirdParty_Info_Period6_11  \n",
       "0                       121.0                       124.0  \n",
       "\n",
       "[1 rows x 30 columns]"
      ]
     },
     "execution_count": 16,
     "metadata": {},
     "output_type": "execute_result"
    }
   ],
   "source": [
    "u_sort.iloc[:,90:120]"
   ]
  },
  {
   "cell_type": "code",
   "execution_count": 17,
   "metadata": {},
   "outputs": [],
   "source": [
    "#通过观察以上表格，<=102的字段作独热处理，之后的仍视为数值进行处理\n",
    "#需要转为字符类存储的字段\n",
    "t=104\n",
    "l_to_str=u_sort[u_sort<104].dropna(axis=1).columns.tolist()"
   ]
  },
  {
   "cell_type": "code",
   "execution_count": 18,
   "metadata": {},
   "outputs": [],
   "source": [
    "data_master[l_to_str]=data_master[l_to_str].applymap(str)"
   ]
  },
  {
   "cell_type": "code",
   "execution_count": 19,
   "metadata": {},
   "outputs": [],
   "source": [
    "#以上我们主要完成了：\n",
    "#对空值进行填充和删除\n",
    "#将城市字段调整为城市分级\n",
    "#将更适合做类别特征的字段调整为字符串类型\n",
    "#接下来将对log和update两部分数据进行处理"
   ]
  },
  {
   "cell_type": "code",
   "execution_count": 20,
   "metadata": {},
   "outputs": [],
   "source": [
    "#具体处理包括：1将info字段类型转为字符串，并对其get_dummies后求和，算出每种操作的操作数量，操作的总数量\n",
    "#2将日期字段全部转为日期类型，求出Listinfo的月份，Log3的时间间隔"
   ]
  },
  {
   "cell_type": "code",
   "execution_count": 21,
   "metadata": {},
   "outputs": [],
   "source": [
    "#信息转字符,仅对log\n",
    "data_log[['LogInfo1','LogInfo2']]=data_log[['LogInfo1','LogInfo2']].applymap(str)"
   ]
  },
  {
   "cell_type": "code",
   "execution_count": 22,
   "metadata": {},
   "outputs": [],
   "source": [
    "#转日期类型,对log和update处理\n",
    "data_log['Listinginfo1']=pd.to_datetime(data_log['Listinginfo1'])\n",
    "data_log['LogInfo3']=pd.to_datetime(data_log['LogInfo3'])\n",
    "\n",
    "data_update['ListingInfo1']=pd.to_datetime(data_update['ListingInfo1'])\n",
    "data_update['UserupdateInfo2']=pd.to_datetime(data_update['UserupdateInfo2'])"
   ]
  },
  {
   "cell_type": "code",
   "execution_count": 23,
   "metadata": {},
   "outputs": [],
   "source": [
    "#log字符串get_dummies并求和\n",
    "dlog_info=pd.get_dummies(data_log[['LogInfo1','LogInfo2']])\n",
    "dlog_info['Idx']=data_log['Idx'].tolist()\n",
    "dlog_info_sum=dlog_info.groupby('Idx').sum()"
   ]
  },
  {
   "cell_type": "code",
   "execution_count": 24,
   "metadata": {},
   "outputs": [
    {
     "data": {
      "text/html": [
       "<div>\n",
       "<style scoped>\n",
       "    .dataframe tbody tr th:only-of-type {\n",
       "        vertical-align: middle;\n",
       "    }\n",
       "\n",
       "    .dataframe tbody tr th {\n",
       "        vertical-align: top;\n",
       "    }\n",
       "\n",
       "    .dataframe thead th {\n",
       "        text-align: right;\n",
       "    }\n",
       "</style>\n",
       "<table border=\"1\" class=\"dataframe\">\n",
       "  <thead>\n",
       "    <tr style=\"text-align: right;\">\n",
       "      <th></th>\n",
       "      <th>LogInfo1_-10</th>\n",
       "      <th>LogInfo1_-4</th>\n",
       "      <th>LogInfo1_0</th>\n",
       "      <th>LogInfo1_1</th>\n",
       "      <th>LogInfo1_10</th>\n",
       "      <th>LogInfo1_100</th>\n",
       "      <th>LogInfo1_1000</th>\n",
       "      <th>LogInfo1_101</th>\n",
       "      <th>LogInfo1_102</th>\n",
       "      <th>LogInfo1_103</th>\n",
       "      <th>...</th>\n",
       "      <th>LogInfo2_19</th>\n",
       "      <th>LogInfo2_2</th>\n",
       "      <th>LogInfo2_20</th>\n",
       "      <th>LogInfo2_21</th>\n",
       "      <th>LogInfo2_22</th>\n",
       "      <th>LogInfo2_23</th>\n",
       "      <th>LogInfo2_3</th>\n",
       "      <th>LogInfo2_4</th>\n",
       "      <th>LogInfo2_6</th>\n",
       "      <th>LogInfo2_7</th>\n",
       "    </tr>\n",
       "    <tr>\n",
       "      <th>Idx</th>\n",
       "      <th></th>\n",
       "      <th></th>\n",
       "      <th></th>\n",
       "      <th></th>\n",
       "      <th></th>\n",
       "      <th></th>\n",
       "      <th></th>\n",
       "      <th></th>\n",
       "      <th></th>\n",
       "      <th></th>\n",
       "      <th></th>\n",
       "      <th></th>\n",
       "      <th></th>\n",
       "      <th></th>\n",
       "      <th></th>\n",
       "      <th></th>\n",
       "      <th></th>\n",
       "      <th></th>\n",
       "      <th></th>\n",
       "      <th></th>\n",
       "      <th></th>\n",
       "    </tr>\n",
       "  </thead>\n",
       "  <tbody>\n",
       "    <tr>\n",
       "      <th>10001</th>\n",
       "      <td>0.0</td>\n",
       "      <td>7.0</td>\n",
       "      <td>0.0</td>\n",
       "      <td>3.0</td>\n",
       "      <td>0.0</td>\n",
       "      <td>0.0</td>\n",
       "      <td>0.0</td>\n",
       "      <td>0.0</td>\n",
       "      <td>0.0</td>\n",
       "      <td>0.0</td>\n",
       "      <td>...</td>\n",
       "      <td>0.0</td>\n",
       "      <td>1.0</td>\n",
       "      <td>1.0</td>\n",
       "      <td>0.0</td>\n",
       "      <td>0.0</td>\n",
       "      <td>0.0</td>\n",
       "      <td>0.0</td>\n",
       "      <td>0.0</td>\n",
       "      <td>13.0</td>\n",
       "      <td>0.0</td>\n",
       "    </tr>\n",
       "    <tr>\n",
       "      <th>10002</th>\n",
       "      <td>0.0</td>\n",
       "      <td>14.0</td>\n",
       "      <td>0.0</td>\n",
       "      <td>3.0</td>\n",
       "      <td>1.0</td>\n",
       "      <td>0.0</td>\n",
       "      <td>0.0</td>\n",
       "      <td>0.0</td>\n",
       "      <td>0.0</td>\n",
       "      <td>0.0</td>\n",
       "      <td>...</td>\n",
       "      <td>1.0</td>\n",
       "      <td>1.0</td>\n",
       "      <td>0.0</td>\n",
       "      <td>0.0</td>\n",
       "      <td>0.0</td>\n",
       "      <td>0.0</td>\n",
       "      <td>0.0</td>\n",
       "      <td>0.0</td>\n",
       "      <td>17.0</td>\n",
       "      <td>1.0</td>\n",
       "    </tr>\n",
       "    <tr>\n",
       "      <th>10003</th>\n",
       "      <td>0.0</td>\n",
       "      <td>5.0</td>\n",
       "      <td>0.0</td>\n",
       "      <td>4.0</td>\n",
       "      <td>0.0</td>\n",
       "      <td>0.0</td>\n",
       "      <td>0.0</td>\n",
       "      <td>0.0</td>\n",
       "      <td>0.0</td>\n",
       "      <td>0.0</td>\n",
       "      <td>...</td>\n",
       "      <td>0.0</td>\n",
       "      <td>1.0</td>\n",
       "      <td>1.0</td>\n",
       "      <td>0.0</td>\n",
       "      <td>0.0</td>\n",
       "      <td>0.0</td>\n",
       "      <td>0.0</td>\n",
       "      <td>0.0</td>\n",
       "      <td>8.0</td>\n",
       "      <td>0.0</td>\n",
       "    </tr>\n",
       "    <tr>\n",
       "      <th>10006</th>\n",
       "      <td>0.0</td>\n",
       "      <td>1.0</td>\n",
       "      <td>0.0</td>\n",
       "      <td>4.0</td>\n",
       "      <td>0.0</td>\n",
       "      <td>0.0</td>\n",
       "      <td>0.0</td>\n",
       "      <td>0.0</td>\n",
       "      <td>0.0</td>\n",
       "      <td>0.0</td>\n",
       "      <td>...</td>\n",
       "      <td>0.0</td>\n",
       "      <td>1.0</td>\n",
       "      <td>1.0</td>\n",
       "      <td>0.0</td>\n",
       "      <td>0.0</td>\n",
       "      <td>0.0</td>\n",
       "      <td>0.0</td>\n",
       "      <td>0.0</td>\n",
       "      <td>1.0</td>\n",
       "      <td>0.0</td>\n",
       "    </tr>\n",
       "    <tr>\n",
       "      <th>10007</th>\n",
       "      <td>0.0</td>\n",
       "      <td>3.0</td>\n",
       "      <td>0.0</td>\n",
       "      <td>1.0</td>\n",
       "      <td>0.0</td>\n",
       "      <td>0.0</td>\n",
       "      <td>0.0</td>\n",
       "      <td>0.0</td>\n",
       "      <td>0.0</td>\n",
       "      <td>0.0</td>\n",
       "      <td>...</td>\n",
       "      <td>0.0</td>\n",
       "      <td>1.0</td>\n",
       "      <td>0.0</td>\n",
       "      <td>1.0</td>\n",
       "      <td>0.0</td>\n",
       "      <td>0.0</td>\n",
       "      <td>0.0</td>\n",
       "      <td>0.0</td>\n",
       "      <td>3.0</td>\n",
       "      <td>0.0</td>\n",
       "    </tr>\n",
       "  </tbody>\n",
       "</table>\n",
       "<p>5 rows × 50 columns</p>\n",
       "</div>"
      ],
      "text/plain": [
       "       LogInfo1_-10  LogInfo1_-4  LogInfo1_0  LogInfo1_1  LogInfo1_10  \\\n",
       "Idx                                                                     \n",
       "10001           0.0          7.0         0.0         3.0          0.0   \n",
       "10002           0.0         14.0         0.0         3.0          1.0   \n",
       "10003           0.0          5.0         0.0         4.0          0.0   \n",
       "10006           0.0          1.0         0.0         4.0          0.0   \n",
       "10007           0.0          3.0         0.0         1.0          0.0   \n",
       "\n",
       "       LogInfo1_100  LogInfo1_1000  LogInfo1_101  LogInfo1_102  LogInfo1_103  \\\n",
       "Idx                                                                            \n",
       "10001           0.0            0.0           0.0           0.0           0.0   \n",
       "10002           0.0            0.0           0.0           0.0           0.0   \n",
       "10003           0.0            0.0           0.0           0.0           0.0   \n",
       "10006           0.0            0.0           0.0           0.0           0.0   \n",
       "10007           0.0            0.0           0.0           0.0           0.0   \n",
       "\n",
       "          ...      LogInfo2_19  LogInfo2_2  LogInfo2_20  LogInfo2_21  \\\n",
       "Idx       ...                                                          \n",
       "10001     ...              0.0         1.0          1.0          0.0   \n",
       "10002     ...              1.0         1.0          0.0          0.0   \n",
       "10003     ...              0.0         1.0          1.0          0.0   \n",
       "10006     ...              0.0         1.0          1.0          0.0   \n",
       "10007     ...              0.0         1.0          0.0          1.0   \n",
       "\n",
       "       LogInfo2_22  LogInfo2_23  LogInfo2_3  LogInfo2_4  LogInfo2_6  \\\n",
       "Idx                                                                   \n",
       "10001          0.0          0.0         0.0         0.0        13.0   \n",
       "10002          0.0          0.0         0.0         0.0        17.0   \n",
       "10003          0.0          0.0         0.0         0.0         8.0   \n",
       "10006          0.0          0.0         0.0         0.0         1.0   \n",
       "10007          0.0          0.0         0.0         0.0         3.0   \n",
       "\n",
       "       LogInfo2_7  \n",
       "Idx                \n",
       "10001         0.0  \n",
       "10002         1.0  \n",
       "10003         0.0  \n",
       "10006         0.0  \n",
       "10007         0.0  \n",
       "\n",
       "[5 rows x 50 columns]"
      ]
     },
     "execution_count": 24,
     "metadata": {},
     "output_type": "execute_result"
    }
   ],
   "source": [
    "dlog_info_sum.head()"
   ]
  },
  {
   "cell_type": "code",
   "execution_count": 25,
   "metadata": {},
   "outputs": [],
   "source": [
    "#log接下来对日期进行处理\n",
    "#1提取listinfo的月\n",
    "def t2m(date):\n",
    "    return date.month\n",
    "\n",
    "data_log['month']=data_log['Listinginfo1'].apply(t2m)\n",
    "\n",
    "dlog_date=data_log.drop(['Listinginfo1','LogInfo1','LogInfo2','LogInfo3'],axis=1).drop_duplicates()\n",
    "dlog_date=dlog_date.set_index(['Idx'])  #groupby处理后的index均为Idx，这里为了之后统一按索引合并"
   ]
  },
  {
   "cell_type": "code",
   "execution_count": 26,
   "metadata": {},
   "outputs": [],
   "source": [
    "#2提取loginfo3的时间间隔\n",
    "def tdif(df):\n",
    "    a=(df['LogInfo3'].max()-df['LogInfo3'].min()).days\n",
    "    return a\n",
    "\n",
    "dlog_dif=data_log.groupby('Idx').apply(tdif).to_frame()\n",
    "dlog_dif.columns=['dif']\n"
   ]
  },
  {
   "cell_type": "code",
   "execution_count": 27,
   "metadata": {},
   "outputs": [
    {
     "data": {
      "text/plain": [
       "Index(['log_count'], dtype='object')"
      ]
     },
     "execution_count": 27,
     "metadata": {},
     "output_type": "execute_result"
    }
   ],
   "source": [
    "#统计总共的操作数量log\n",
    "dlog_count=data_log.groupby('Idx')['month'].count().to_frame()\n",
    "dlog_count.columns=['log_count']\n",
    "dlog_count.columns"
   ]
  },
  {
   "cell_type": "code",
   "execution_count": 28,
   "metadata": {},
   "outputs": [],
   "source": [
    "#log数据最终处理结果\n",
    "datal=dlog_info_sum.join(dlog_date)\n",
    "datal=datal.join(dlog_dif)\n",
    "datal=datal.join(dlog_count)"
   ]
  },
  {
   "cell_type": "code",
   "execution_count": 29,
   "metadata": {},
   "outputs": [],
   "source": [
    "#对update作相似处理\n",
    "#1get_dummies并求和\n",
    "dupdate_info=pd.get_dummies(data_update['UserupdateInfo1'])\n",
    "dupdate_info['Idx']=data_update['Idx'].tolist()\n",
    "dupdate_info_sum=dupdate_info.groupby('Idx').sum()"
   ]
  },
  {
   "cell_type": "code",
   "execution_count": 30,
   "metadata": {},
   "outputs": [],
   "source": [
    "#update的info2-info1\n",
    "def diflu(df):\n",
    "    a=(df['ListingInfo1'].max()-df['UserupdateInfo2'].max()).days\n",
    "    return a\n",
    "\n",
    "dupdate_dif=data_update.groupby('Idx').apply(diflu).to_frame()\n",
    "dupdate_dif.columns=['difu']"
   ]
  },
  {
   "cell_type": "code",
   "execution_count": 31,
   "metadata": {},
   "outputs": [
    {
     "data": {
      "text/plain": [
       "Index(['update_count'], dtype='object')"
      ]
     },
     "execution_count": 31,
     "metadata": {},
     "output_type": "execute_result"
    }
   ],
   "source": [
    "#统计总共的操作数量update\n",
    "dupdate_count=data_update.groupby('Idx')['ListingInfo1'].count().to_frame()\n",
    "dupdate_count.columns=['update_count']\n",
    "dupdate_count.columns"
   ]
  },
  {
   "cell_type": "code",
   "execution_count": 32,
   "metadata": {},
   "outputs": [],
   "source": [
    "#datau为update的处理结果\n",
    "datau=dupdate_info_sum.join(dupdate_dif)\n",
    "datau=datau.join(dupdate_count)"
   ]
  },
  {
   "cell_type": "code",
   "execution_count": 33,
   "metadata": {},
   "outputs": [],
   "source": [
    "data_master=data_master.set_index(['Idx'])\n",
    "data=data_master.join(datal)\n",
    "data=data.join(datau)"
   ]
  },
  {
   "cell_type": "code",
   "execution_count": 34,
   "metadata": {},
   "outputs": [],
   "source": [
    "data.fillna(0,inplace=True)"
   ]
  },
  {
   "cell_type": "code",
   "execution_count": 35,
   "metadata": {},
   "outputs": [],
   "source": [
    "#由于log和update的部分字段必须先独热编码才能提取特征，"
   ]
  },
  {
   "cell_type": "code",
   "execution_count": 36,
   "metadata": {},
   "outputs": [],
   "source": [
    "data['target']=data['target'].astype(int)\n",
    "data_str=data.select_dtypes(include='object')\n",
    "data_num=data.drop(data_str.columns,axis=1)\n",
    "data_str=pd.get_dummies(data_str)"
   ]
  },
  {
   "cell_type": "code",
   "execution_count": 37,
   "metadata": {},
   "outputs": [],
   "source": [
    "data0=data"
   ]
  },
  {
   "cell_type": "code",
   "execution_count": 38,
   "metadata": {},
   "outputs": [],
   "source": [
    "data_target=data['target']\n",
    "data_num=data_num.drop(['target'],axis=1)   #df是扔掉目标值的data\n",
    "from sklearn import preprocessing\n",
    "mms=preprocessing.MinMaxScaler()\n",
    "data_num.iloc[:,:]=mms.fit_transform(data_num.values)  \n",
    "\n",
    "#数据部分主要特征提取,lnum用于存储各个属性与目标变量的互信息\n",
    "import sklearn.metrics \n",
    "from sklearn.metrics import normalized_mutual_info_score \n",
    "lnum=pd.DataFrame(index=['score'])                         #l为各个属性与目标变量的关联程度\n",
    "for c in data_num.columns:\n",
    "    lnum.loc['score',c]=normalized_mutual_info_score(data_num[c],data_target.values)\n",
    "lnum_sort=lnum.sort_values(by='score',axis=1,ascending=False)\n",
    "data_num=data_num[lnum[lnum>0.001].dropna(axis=1).columns.tolist()]\n",
    "\n",
    "#字符部分主要特征提取\n",
    "lstr=pd.DataFrame(index=['score'])\n",
    "for c in data_str.columns:\n",
    "    lstr.loc['score',c]=normalized_mutual_info_score(data_str[c],data_target.values)\n",
    "lstr_sort=lstr.sort_values(by='score',axis=1,ascending=False)\n",
    "data_str=data_str[lstr[(lstr>0.001) & (lstr<0.3)].dropna(axis=1).columns.tolist()]\n",
    "\n",
    "\n",
    "\n",
    "#将两部分合并成为新的data\n",
    "data=pd.concat([data_num,data_str],axis=1)\n",
    "data_all=pd.concat([data,data_target],axis=1)"
   ]
  },
  {
   "cell_type": "code",
   "execution_count": 39,
   "metadata": {},
   "outputs": [
    {
     "data": {
      "text/html": [
       "<div>\n",
       "<style scoped>\n",
       "    .dataframe tbody tr th:only-of-type {\n",
       "        vertical-align: middle;\n",
       "    }\n",
       "\n",
       "    .dataframe tbody tr th {\n",
       "        vertical-align: top;\n",
       "    }\n",
       "\n",
       "    .dataframe thead th {\n",
       "        text-align: right;\n",
       "    }\n",
       "</style>\n",
       "<table border=\"1\" class=\"dataframe\">\n",
       "  <thead>\n",
       "    <tr style=\"text-align: right;\">\n",
       "      <th></th>\n",
       "      <th>ThirdParty_Info_Period2_16</th>\n",
       "      <th>ThirdParty_Info_Period2_13</th>\n",
       "      <th>ThirdParty_Info_Period3_16</th>\n",
       "      <th>ThirdParty_Info_Period3_13</th>\n",
       "      <th>ThirdParty_Info_Period4_16</th>\n",
       "      <th>ThirdParty_Info_Period2_14</th>\n",
       "      <th>ThirdParty_Info_Period4_13</th>\n",
       "      <th>ThirdParty_Info_Period1_16</th>\n",
       "      <th>ThirdParty_Info_Period3_14</th>\n",
       "      <th>ThirdParty_Info_Period1_13</th>\n",
       "      <th>...</th>\n",
       "      <th>LogInfo1_302</th>\n",
       "      <th>_hassborgjj</th>\n",
       "      <th>LogInfo1_12</th>\n",
       "      <th>_flag_uctobcp</th>\n",
       "      <th>_gender</th>\n",
       "      <th>LogInfo2_0</th>\n",
       "      <th>_age</th>\n",
       "      <th>LogInfo1_305</th>\n",
       "      <th>LogInfo1_304</th>\n",
       "      <th>LogInfo1_303</th>\n",
       "    </tr>\n",
       "  </thead>\n",
       "  <tbody>\n",
       "    <tr>\n",
       "      <th>score</th>\n",
       "      <td>0.134983</td>\n",
       "      <td>0.132903</td>\n",
       "      <td>0.132336</td>\n",
       "      <td>0.131722</td>\n",
       "      <td>0.129507</td>\n",
       "      <td>0.128613</td>\n",
       "      <td>0.127571</td>\n",
       "      <td>0.125655</td>\n",
       "      <td>0.125378</td>\n",
       "      <td>0.123035</td>\n",
       "      <td>...</td>\n",
       "      <td>0.000134</td>\n",
       "      <td>0.000129</td>\n",
       "      <td>0.000087</td>\n",
       "      <td>0.000062</td>\n",
       "      <td>0.000053</td>\n",
       "      <td>0.000017</td>\n",
       "      <td>0.000016</td>\n",
       "      <td>0.000007</td>\n",
       "      <td>0.000005</td>\n",
       "      <td>0.000004</td>\n",
       "    </tr>\n",
       "  </tbody>\n",
       "</table>\n",
       "<p>1 rows × 219 columns</p>\n",
       "</div>"
      ],
      "text/plain": [
       "       ThirdParty_Info_Period2_16  ThirdParty_Info_Period2_13  \\\n",
       "score                    0.134983                    0.132903   \n",
       "\n",
       "       ThirdParty_Info_Period3_16  ThirdParty_Info_Period3_13  \\\n",
       "score                    0.132336                    0.131722   \n",
       "\n",
       "       ThirdParty_Info_Period4_16  ThirdParty_Info_Period2_14  \\\n",
       "score                    0.129507                    0.128613   \n",
       "\n",
       "       ThirdParty_Info_Period4_13  ThirdParty_Info_Period1_16  \\\n",
       "score                    0.127571                    0.125655   \n",
       "\n",
       "       ThirdParty_Info_Period3_14  ThirdParty_Info_Period1_13      ...       \\\n",
       "score                    0.125378                    0.123035      ...        \n",
       "\n",
       "       LogInfo1_302  _hassborgjj  LogInfo1_12  _flag_uctobcp   _gender  \\\n",
       "score      0.000134     0.000129     0.000087       0.000062  0.000053   \n",
       "\n",
       "       LogInfo2_0      _age  LogInfo1_305  LogInfo1_304  LogInfo1_303  \n",
       "score    0.000017  0.000016      0.000007      0.000005      0.000004  \n",
       "\n",
       "[1 rows x 219 columns]"
      ]
     },
     "execution_count": 39,
     "metadata": {},
     "output_type": "execute_result"
    }
   ],
   "source": [
    "lnum_sort"
   ]
  },
  {
   "cell_type": "code",
   "execution_count": 40,
   "metadata": {},
   "outputs": [
    {
     "data": {
      "text/html": [
       "<div>\n",
       "<style scoped>\n",
       "    .dataframe tbody tr th:only-of-type {\n",
       "        vertical-align: middle;\n",
       "    }\n",
       "\n",
       "    .dataframe tbody tr th {\n",
       "        vertical-align: top;\n",
       "    }\n",
       "\n",
       "    .dataframe thead th {\n",
       "        text-align: right;\n",
       "    }\n",
       "</style>\n",
       "<table border=\"1\" class=\"dataframe\">\n",
       "  <thead>\n",
       "    <tr style=\"text-align: right;\">\n",
       "      <th></th>\n",
       "      <th>WeblogInfo_15_26</th>\n",
       "      <th>ThirdParty_Info_Period7_2_59</th>\n",
       "      <th>WeblogInfo_16_86</th>\n",
       "      <th>WeblogInfo_14_59</th>\n",
       "      <th>ThirdParty_Info_Period6_12_872</th>\n",
       "      <th>ThirdParty_Info_Period6_12_733</th>\n",
       "      <th>ThirdParty_Info_Period6_12_71</th>\n",
       "      <th>ThirdParty_Info_Period6_12_57</th>\n",
       "      <th>WeblogInfo_15_30</th>\n",
       "      <th>ThirdParty_Info_Period6_12_43</th>\n",
       "      <th>...</th>\n",
       "      <th>ThirdParty_Info_Period4_9_27</th>\n",
       "      <th>ThirdParty_Info_Period7_2_6</th>\n",
       "      <th>SocialNetwork_17_2</th>\n",
       "      <th>ThirdParty_Info_Period5_9_25</th>\n",
       "      <th>ThirdParty_Info_Period7_11_7</th>\n",
       "      <th>UserInfo_23_o</th>\n",
       "      <th>WeblogInfo_23_1.0</th>\n",
       "      <th>WeblogInfo_4_3.0</th>\n",
       "      <th>ListingInfo_2014/8/18</th>\n",
       "      <th>ListingInfo_2014/7/27</th>\n",
       "    </tr>\n",
       "  </thead>\n",
       "  <tbody>\n",
       "    <tr>\n",
       "      <th>score</th>\n",
       "      <td>0.010513</td>\n",
       "      <td>0.008767</td>\n",
       "      <td>0.008767</td>\n",
       "      <td>0.008767</td>\n",
       "      <td>0.008767</td>\n",
       "      <td>0.008767</td>\n",
       "      <td>0.008767</td>\n",
       "      <td>0.008767</td>\n",
       "      <td>0.008767</td>\n",
       "      <td>0.008767</td>\n",
       "      <td>...</td>\n",
       "      <td>9.915134e-08</td>\n",
       "      <td>9.915134e-08</td>\n",
       "      <td>9.915134e-08</td>\n",
       "      <td>9.915134e-08</td>\n",
       "      <td>6.660107e-08</td>\n",
       "      <td>5.955197e-08</td>\n",
       "      <td>1.448122e-08</td>\n",
       "      <td>3.396393e-09</td>\n",
       "      <td>2.643371e-09</td>\n",
       "      <td>1.810445e-09</td>\n",
       "    </tr>\n",
       "  </tbody>\n",
       "</table>\n",
       "<p>1 rows × 2490 columns</p>\n",
       "</div>"
      ],
      "text/plain": [
       "       WeblogInfo_15_26  ThirdParty_Info_Period7_2_59  WeblogInfo_16_86  \\\n",
       "score          0.010513                      0.008767          0.008767   \n",
       "\n",
       "       WeblogInfo_14_59  ThirdParty_Info_Period6_12_872  \\\n",
       "score          0.008767                        0.008767   \n",
       "\n",
       "       ThirdParty_Info_Period6_12_733  ThirdParty_Info_Period6_12_71  \\\n",
       "score                        0.008767                       0.008767   \n",
       "\n",
       "       ThirdParty_Info_Period6_12_57  WeblogInfo_15_30  \\\n",
       "score                       0.008767          0.008767   \n",
       "\n",
       "       ThirdParty_Info_Period6_12_43          ...            \\\n",
       "score                       0.008767          ...             \n",
       "\n",
       "       ThirdParty_Info_Period4_9_27  ThirdParty_Info_Period7_2_6  \\\n",
       "score                  9.915134e-08                 9.915134e-08   \n",
       "\n",
       "       SocialNetwork_17_2  ThirdParty_Info_Period5_9_25  \\\n",
       "score        9.915134e-08                  9.915134e-08   \n",
       "\n",
       "       ThirdParty_Info_Period7_11_7  UserInfo_23_o  WeblogInfo_23_1.0  \\\n",
       "score                  6.660107e-08   5.955197e-08       1.448122e-08   \n",
       "\n",
       "       WeblogInfo_4_3.0  ListingInfo_2014/8/18  ListingInfo_2014/7/27  \n",
       "score      3.396393e-09           2.643371e-09           1.810445e-09  \n",
       "\n",
       "[1 rows x 2490 columns]"
      ]
     },
     "execution_count": 40,
     "metadata": {},
     "output_type": "execute_result"
    }
   ],
   "source": [
    "lstr_sort"
   ]
  },
  {
   "cell_type": "code",
   "execution_count": 44,
   "metadata": {},
   "outputs": [
    {
     "data": {
      "text/plain": [
       "<seaborn.axisgrid.PairGrid at 0xab774e0>"
      ]
     },
     "execution_count": 44,
     "metadata": {},
     "output_type": "execute_result"
    },
    {
     "data": {
      "image/png": "[encoded data removed]",
      "text/plain": [
       "<Figure size 1159.2x1159.2 with 56 Axes>"
      ]
     },
     "metadata": {},
     "output_type": "display_data"
    }
   ],
   "source": [
    "#查看数据类型主要属性的pairplot\n",
    "sns.set()\n",
    "cols=lnum_sort.iloc[:,:6].columns.tolist()+['target']\n",
    "sns.pairplot(data_all[cols], size = 2.3)\n"
   ]
  },
  {
   "cell_type": "code",
   "execution_count": 45,
   "metadata": {},
   "outputs": [],
   "source": [
    "#上图有较多的共线性特征，将共线性的特征进行删除，相关系数大于0.6\n",
    "data_corr=data.corr()\n",
    "cl=[]                                #用于存储需要扔掉的共线性特征\n",
    "for i in range(data_corr.shape[0]-1):\n",
    "    for j in range(i):\n",
    "        item=data_corr.iloc[i+1:i+2,j:j+1]\n",
    "        a=abs(item.values)\n",
    "        if a>=0.6:\n",
    "            cl=cl+item.columns.tolist()\n",
    "cl=list(set(cl))                    #去除重复元素\n",
    "            "
   ]
  },
  {
   "cell_type": "code",
   "execution_count": 48,
   "metadata": {},
   "outputs": [],
   "source": [
    "#将共线性特征删除\n",
    "data.drop(cl,axis=1,inplace=True)"
   ]
  },
  {
   "cell_type": "code",
   "execution_count": 51,
   "metadata": {},
   "outputs": [],
   "source": [
    "#定义用于性能检验的函数\n",
    "# def mae(y,ypred):\n",
    "#     a=np.mean(abs(y-ypred))\n",
    "#     return a \n",
    "def model_mae(model):\n",
    "    model.fit(trainx.values,trainy.values)\n",
    "    train_pred=model.predict(trainx.values)\n",
    "    test_pred=model.predict(testx.values)\n",
    "    tr= train_pred==trainy\n",
    "    tr=tr.astype(int)\n",
    "    train=tr.mean()\n",
    "    ts= test_pred==testy\n",
    "    ts=ts.astype(int)\n",
    "    test=ts.mean()\n",
    "    return train,test"
   ]
  },
  {
   "cell_type": "code",
   "execution_count": 78,
   "metadata": {},
   "outputs": [],
   "source": [
    "#进行欠采样\n",
    "dy=data_all[data_all['target']==1]\n",
    "dn=data_all[data_all['target']!=1]\n",
    "dn=dn.iloc[:dy.shape[0],:]\n",
    "dyn=pd.concat([dn,dy],axis=0)\n",
    "dyn_target=dyn['target'].values\n",
    "dyn1=dyn.drop('target',axis=1)"
   ]
  },
  {
   "cell_type": "code",
   "execution_count": 91,
   "metadata": {},
   "outputs": [],
   "source": [
    "from sklearn.cross_validation import train_test_split\n",
    "trainx,testx,trainy,testy=train_test_split(dyn1.values,dyn_target,test_size=0.3)"
   ]
  },
  {
   "cell_type": "code",
   "execution_count": 94,
   "metadata": {},
   "outputs": [
    {
     "name": "stdout",
     "output_type": "stream",
     "text": [
      "xgb_auc_score: 0.9157124447717232\n",
      "xgb_pre_score: 0.9609120521172638\n"
     ]
    },
    {
     "name": "stderr",
     "output_type": "stream",
     "text": [
      "D:\\Anaconda3\\lib\\site-packages\\sklearn\\preprocessing\\label.py:151: DeprecationWarning: The truth value of an empty array is ambiguous. Returning False, but in future this will result in an error. Use `array.size > 0` to check that an array is not empty.\n",
      "  if diff:\n"
     ]
    }
   ],
   "source": [
    "from xgboost.sklearn import XGBClassifier \n",
    "from sklearn.metrics import precision_score,roc_auc_score\n",
    "\n",
    "xgbc=XGBClassifier()\n",
    "xgbc.fit(trainx,trainy)\n",
    "testpre = xgbc.predict(testx)\n",
    "\n",
    "auc_score = roc_auc_score(testy,testpre)\n",
    "pre_score = precision_score(testy,testpre)\n",
    "\n",
    "print(\"xgb_auc_score:\",auc_score)\n",
    "print(\"xgb_pre_score:\",pre_score)\n",
    "\n"
   ]
  },
  {
   "cell_type": "code",
   "execution_count": null,
   "metadata": {},
   "outputs": [],
   "source": []
  }
 ],
 "metadata": {
  "kernelspec": {
   "display_name": "Python 3",
   "language": "python",
   "name": "python3"
  },
  "language_info": {
   "codemirror_mode": {
    "name": "ipython",
    "version": 3
   },
   "file_extension": ".py",
   "mimetype": "text/x-python",
   "name": "python",
   "nbconvert_exporter": "python",
   "pygments_lexer": "ipython3",
   "version": "3.6.5"
  }
 },
 "nbformat": 4,
 "nbformat_minor": 2
}
